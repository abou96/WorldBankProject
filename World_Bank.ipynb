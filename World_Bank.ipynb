{
  "nbformat": 4,
  "nbformat_minor": 0,
  "metadata": {
    "colab": {
      "provenance": [],
      "authorship_tag": "ABX9TyMFIwfGe6jGKc/twrz9lrqQ",
      "include_colab_link": true
    },
    "kernelspec": {
      "name": "python3",
      "display_name": "Python 3"
    },
    "language_info": {
      "name": "python"
    }
  },
  "cells": [
    {
      "cell_type": "markdown",
      "metadata": {
        "id": "view-in-github",
        "colab_type": "text"
      },
      "source": [
        "<a href=\"https://colab.research.google.com/github/abou96/WorldBankProject/blob/dev/World_Bank.ipynb\" target=\"_parent\"><img src=\"https://colab.research.google.com/assets/colab-badge.svg\" alt=\"Open In Colab\"/></a>"
      ]
    },
    {
      "cell_type": "code",
      "execution_count": null,
      "metadata": {
        "colab": {
          "base_uri": "https://localhost:8080/"
        },
        "id": "VufNEZzPuwqY",
        "outputId": "6ef5159b-f4f3-472d-a13c-b7e31a4b765a"
      },
      "outputs": [
        {
          "output_type": "stream",
          "name": "stdout",
          "text": [
            "Looking in indexes: https://pypi.org/simple, https://us-python.pkg.dev/colab-wheels/public/simple/\n",
            "Requirement already satisfied: wbgapi in /usr/local/lib/python3.8/dist-packages (1.0.12)\n",
            "Requirement already satisfied: tabulate in /usr/local/lib/python3.8/dist-packages (from wbgapi) (0.8.10)\n",
            "Requirement already satisfied: PyYAML in /usr/local/lib/python3.8/dist-packages (from wbgapi) (6.0)\n",
            "Requirement already satisfied: requests in /usr/local/lib/python3.8/dist-packages (from wbgapi) (2.25.1)\n",
            "Requirement already satisfied: certifi>=2017.4.17 in /usr/local/lib/python3.8/dist-packages (from requests->wbgapi) (2022.12.7)\n",
            "Requirement already satisfied: urllib3<1.27,>=1.21.1 in /usr/local/lib/python3.8/dist-packages (from requests->wbgapi) (1.24.3)\n",
            "Requirement already satisfied: idna<3,>=2.5 in /usr/local/lib/python3.8/dist-packages (from requests->wbgapi) (2.10)\n",
            "Requirement already satisfied: chardet<5,>=3.0.2 in /usr/local/lib/python3.8/dist-packages (from requests->wbgapi) (4.0.0)\n"
          ]
        }
      ],
      "source": [
        "!pip install wbgapi"
      ]
    },
    {
      "cell_type": "code",
      "source": [
        "# Libraries & Dependencies\n",
        "## wbgapi has a pandas support"
      ],
      "metadata": {
        "id": "h1lkzHqSXcHy"
      },
      "execution_count": null,
      "outputs": []
    },
    {
      "cell_type": "code",
      "source": [
        "import wbgapi as wb\n",
        "import wbdata as wb2\n",
        "import pandas as pd\n",
        "import warnings\n",
        "import itertools\n",
        "import numpy as np\n",
        "import matplotlib.pyplot as plt\n",
        "warnings.filterwarnings(\"ignore\")\n",
        "plt.style.use('fivethirtyeight')\n",
        "import matplotlib\n",
        "from datetime import datetime\n",
        "from dataclasses import dataclass\n"
      ],
      "metadata": {
        "id": "Ef3WwJodvA5t"
      },
      "execution_count": null,
      "outputs": []
    },
    {
      "cell_type": "code",
      "source": [
        "matplotlib.rcParams['axes.labelsize'] = 14\n",
        "matplotlib.rcParams['xtick.labelsize'] = 12\n",
        "matplotlib.rcParams['ytick.labelsize'] = 12\n",
        "matplotlib.rcParams['text.color'] = 'k'"
      ],
      "metadata": {
        "id": "af96y3scl1ON"
      },
      "execution_count": null,
      "outputs": []
    },
    {
      "cell_type": "markdown",
      "source": [
        "Query the environmental score, methane emission (kt of CO2 equivalent)"
      ],
      "metadata": {
        "id": "OoKukiKFGMUr"
      }
    },
    {
      "cell_type": "code",
      "source": [
        "wb.series.info(q='methane')"
      ],
      "metadata": {
        "colab": {
          "base_uri": "https://localhost:8080/",
          "height": 187
        },
        "id": "jXk31ACCVc9q",
        "outputId": "60249bf6-15d7-454e-df34-f8333f326e09"
      },
      "execution_count": null,
      "outputs": [
        {
          "output_type": "execute_result",
          "data": {
            "text/plain": [
              "id                    value\n",
              "--------------------  ---------------------------------------------------------------------------\n",
              "EN.ATM.METH.AG.KT.CE  Agricultural methane emissions (thousand metric tons of CO2 equivalent)\n",
              "EN.ATM.METH.AG.ZS     Agricultural methane emissions (% of total)\n",
              "EN.ATM.METH.EG.KT.CE  Methane emissions in energy sector (thousand metric tons of CO2 equivalent)\n",
              "EN.ATM.METH.EG.ZS     Energy related methane emissions (% of total)\n",
              "EN.ATM.METH.KT.CE     Methane emissions (kt of CO2 equivalent)\n",
              "EN.ATM.METH.ZG        Methane emissions (% change from 1990)\n",
              "                      6 elements"
            ],
            "text/html": [
              "<div class=\"wbgapi\"><table>\n",
              "<thead>\n",
              "<tr><th>id                  </th><th>value                                                                      </th></tr>\n",
              "</thead>\n",
              "<tbody>\n",
              "<tr><td>EN.ATM.METH.AG.KT.CE</td><td>Agricultural methane emissions (thousand metric tons of CO2 equivalent)    </td></tr>\n",
              "<tr><td>EN.ATM.METH.AG.ZS   </td><td>Agricultural methane emissions (% of total)                                </td></tr>\n",
              "<tr><td>EN.ATM.METH.EG.KT.CE</td><td>Methane emissions in energy sector (thousand metric tons of CO2 equivalent)</td></tr>\n",
              "<tr><td>EN.ATM.METH.EG.ZS   </td><td>Energy related methane emissions (% of total)                              </td></tr>\n",
              "<tr><td>EN.ATM.METH.KT.CE   </td><td>Methane emissions (kt of CO2 equivalent)                                   </td></tr>\n",
              "<tr><td>EN.ATM.METH.ZG      </td><td>Methane emissions (% change from 1990)                                     </td></tr>\n",
              "<tr><td>                    </td><td>6 elements                                                                 </td></tr>\n",
              "</tbody>\n",
              "</table></div>"
            ]
          },
          "metadata": {},
          "execution_count": 6
        }
      ]
    },
    {
      "cell_type": "markdown",
      "source": [
        "Info about the metrics :\n",
        "At standard temperature and pressure, one metric ton of carbon dioxide (CO₂) would fill a sphere 32 feet (about 9.8 meters) in diameter. The average car in the U.S. will produce this over a three-month period."
      ],
      "metadata": {
        "id": "nWrtCqiSZ0ec"
      }
    },
    {
      "cell_type": "code",
      "source": [
        "QUERY_ID = ['EN.ATM.METH.EG.KT.CE']\n",
        "\n",
        "predictors_id = ['EN.ATM.METH.EG.ZS', 'EN.ATM.METH.EG.ZS',\n",
        "                 'EN.ATM.METH.ZG', 'EN.ATM.METH.AG.ZS', 'EN.ATM.METH.AG.KT.CE' ]\n",
        "\n",
        "predictors_id2 = ['EN.ATM.CO2E.KT', 'EG.USE.PCAP.KG.OE',\n",
        "                 'NV.IND.TOTL.ZS' ]\n",
        "\n",
        "CURRENT_YEAR_AVAILABLE = 2021"
      ],
      "metadata": {
        "id": "7CzJz24yhWFK"
      },
      "execution_count": null,
      "outputs": []
    },
    {
      "cell_type": "markdown",
      "source": [
        "**GET OUR DATA FROM WORLD BANK API**"
      ],
      "metadata": {
        "id": "Z3_aNzUfGwqZ"
      }
    },
    {
      "cell_type": "markdown",
      "source": [
        "This 2 functions help us retrieve the data from the API using CountryAlpha2Code and the period time\n",
        "- CountryAlpha2Code : later.....\n",
        "- period time : later...."
      ],
      "metadata": {
        "id": "wV5mvqEEHD4r"
      }
    },
    {
      "cell_type": "code",
      "source": [
        "def HandlingPeriodFormatInput(period_time) :\n",
        "  \n",
        "  if not isinstance(period_time, list):\n",
        "    raise Exception (\"period time should be in a format list like this : [2021]\")\n",
        "\n",
        "  LastYearToPredict = max(period_time)\n",
        "  \n",
        "  if len(period_time) > 3 :\n",
        "    raise Exception (\"The format given is not correct try this format [initial date, final date, step\")\n",
        "  if len(period_time) == 2 :\n",
        "    period_time.insert(2, 1)\n",
        "    warnings.warn(\"the format should be [initial date, final date, step\")\n",
        "  \n",
        "  if max(period_time) > CURRENT_YEAR_AVAILABLE + 1 or min(period_time) > CURRENT_YEAR_AVAILABLE:\n",
        "    # period_time[0] , period_time[1]= min(2021, period_time[0]), min(2022, period_time[1])\n",
        "    new_period_time = range(min(2021, period_time[0]), min(2022, period_time[1]), period_time[2])\n",
        "  else :\n",
        "     new_period_time = range(period_time[0], period_time[1], period_time[2])\n",
        "\n",
        "  return new_period_time, period_time[0], LastYearToPredict\n",
        "\n",
        "\n"
      ],
      "metadata": {
        "id": "JUConNyXrqof"
      },
      "execution_count": null,
      "outputs": []
    },
    {
      "cell_type": "code",
      "source": [
        "HandlingPeriodFormatInput([2010, 2026, 1])"
      ],
      "metadata": {
        "colab": {
          "base_uri": "https://localhost:8080/"
        },
        "id": "a6uXeY0QOTuK",
        "outputId": "01cc7952-6ed2-4700-f094-e16e03320197"
      },
      "execution_count": null,
      "outputs": [
        {
          "output_type": "execute_result",
          "data": {
            "text/plain": [
              "(range(2010, 2022), 2010, 2026)"
            ]
          },
          "metadata": {},
          "execution_count": 9
        }
      ]
    },
    {
      "cell_type": "code",
      "source": [
        "@dataclass\n",
        "class Country :\n",
        "  name : str\n",
        "  CountryAlpha2Code : str\n",
        "  period_time : list\n",
        "  query_id : list\n",
        "\n",
        "  def getDataMethEmissionByCountryAndYears(self) -> pd.DataFrame :\n",
        "    period_time_range,  _, _ = HandlingPeriodFormatInput(self.period_time)\n",
        "    df = wb.data.DataFrame(self.query_id, self.CountryAlpha2Code, time = period_time_range, columns='series')   \n",
        "    return df.reset_index()"
      ],
      "metadata": {
        "id": "3XmlmyRjBKES"
      },
      "execution_count": null,
      "outputs": []
    },
    {
      "cell_type": "code",
      "source": [
        "France = Country('France', 'FRA', [2010, 2026, 1], QUERY_ID)\n",
        "France.period_time\n",
        "\n",
        "# senegal.period_time"
      ],
      "metadata": {
        "colab": {
          "base_uri": "https://localhost:8080/"
        },
        "id": "LUrhPLyVCKXo",
        "outputId": "75b41e64-c9cb-4208-9da7-916c438e0aa0"
      },
      "execution_count": null,
      "outputs": [
        {
          "output_type": "execute_result",
          "data": {
            "text/plain": [
              "[2010, 2026, 1]"
            ]
          },
          "metadata": {},
          "execution_count": 11
        }
      ]
    },
    {
      "cell_type": "code",
      "source": [
        "df_France = France.getDataMethEmissionByCountryAndYears()\n",
        "France.period_time\n",
        "df_France"
      ],
      "metadata": {
        "colab": {
          "base_uri": "https://localhost:8080/",
          "height": 421
        },
        "id": "oFxI2N0SPFS7",
        "outputId": "314a1d4f-8a9a-4c2d-a514-b57b2c6bfc7d"
      },
      "execution_count": null,
      "outputs": [
        {
          "output_type": "execute_result",
          "data": {
            "text/plain": [
              "      time  EN.ATM.METH.EG.KT.CE\n",
              "0   YR2010                5770.0\n",
              "1   YR2011                4870.0\n",
              "2   YR2012                5230.0\n",
              "3   YR2013                5500.0\n",
              "4   YR2014                4680.0\n",
              "5   YR2015                4920.0\n",
              "6   YR2016                5240.0\n",
              "7   YR2017                5130.0\n",
              "8   YR2018                4990.0\n",
              "9   YR2019                5060.0\n",
              "10  YR2020                   NaN\n",
              "11  YR2021                   NaN"
            ],
            "text/html": [
              "\n",
              "  <div id=\"df-780fccbc-dfde-44c3-8029-588860c0fd5d\">\n",
              "    <div class=\"colab-df-container\">\n",
              "      <div>\n",
              "<style scoped>\n",
              "    .dataframe tbody tr th:only-of-type {\n",
              "        vertical-align: middle;\n",
              "    }\n",
              "\n",
              "    .dataframe tbody tr th {\n",
              "        vertical-align: top;\n",
              "    }\n",
              "\n",
              "    .dataframe thead th {\n",
              "        text-align: right;\n",
              "    }\n",
              "</style>\n",
              "<table border=\"1\" class=\"dataframe\">\n",
              "  <thead>\n",
              "    <tr style=\"text-align: right;\">\n",
              "      <th></th>\n",
              "      <th>time</th>\n",
              "      <th>EN.ATM.METH.EG.KT.CE</th>\n",
              "    </tr>\n",
              "  </thead>\n",
              "  <tbody>\n",
              "    <tr>\n",
              "      <th>0</th>\n",
              "      <td>YR2010</td>\n",
              "      <td>5770.0</td>\n",
              "    </tr>\n",
              "    <tr>\n",
              "      <th>1</th>\n",
              "      <td>YR2011</td>\n",
              "      <td>4870.0</td>\n",
              "    </tr>\n",
              "    <tr>\n",
              "      <th>2</th>\n",
              "      <td>YR2012</td>\n",
              "      <td>5230.0</td>\n",
              "    </tr>\n",
              "    <tr>\n",
              "      <th>3</th>\n",
              "      <td>YR2013</td>\n",
              "      <td>5500.0</td>\n",
              "    </tr>\n",
              "    <tr>\n",
              "      <th>4</th>\n",
              "      <td>YR2014</td>\n",
              "      <td>4680.0</td>\n",
              "    </tr>\n",
              "    <tr>\n",
              "      <th>5</th>\n",
              "      <td>YR2015</td>\n",
              "      <td>4920.0</td>\n",
              "    </tr>\n",
              "    <tr>\n",
              "      <th>6</th>\n",
              "      <td>YR2016</td>\n",
              "      <td>5240.0</td>\n",
              "    </tr>\n",
              "    <tr>\n",
              "      <th>7</th>\n",
              "      <td>YR2017</td>\n",
              "      <td>5130.0</td>\n",
              "    </tr>\n",
              "    <tr>\n",
              "      <th>8</th>\n",
              "      <td>YR2018</td>\n",
              "      <td>4990.0</td>\n",
              "    </tr>\n",
              "    <tr>\n",
              "      <th>9</th>\n",
              "      <td>YR2019</td>\n",
              "      <td>5060.0</td>\n",
              "    </tr>\n",
              "    <tr>\n",
              "      <th>10</th>\n",
              "      <td>YR2020</td>\n",
              "      <td>NaN</td>\n",
              "    </tr>\n",
              "    <tr>\n",
              "      <th>11</th>\n",
              "      <td>YR2021</td>\n",
              "      <td>NaN</td>\n",
              "    </tr>\n",
              "  </tbody>\n",
              "</table>\n",
              "</div>\n",
              "      <button class=\"colab-df-convert\" onclick=\"convertToInteractive('df-780fccbc-dfde-44c3-8029-588860c0fd5d')\"\n",
              "              title=\"Convert this dataframe to an interactive table.\"\n",
              "              style=\"display:none;\">\n",
              "        \n",
              "  <svg xmlns=\"http://www.w3.org/2000/svg\" height=\"24px\"viewBox=\"0 0 24 24\"\n",
              "       width=\"24px\">\n",
              "    <path d=\"M0 0h24v24H0V0z\" fill=\"none\"/>\n",
              "    <path d=\"M18.56 5.44l.94 2.06.94-2.06 2.06-.94-2.06-.94-.94-2.06-.94 2.06-2.06.94zm-11 1L8.5 8.5l.94-2.06 2.06-.94-2.06-.94L8.5 2.5l-.94 2.06-2.06.94zm10 10l.94 2.06.94-2.06 2.06-.94-2.06-.94-.94-2.06-.94 2.06-2.06.94z\"/><path d=\"M17.41 7.96l-1.37-1.37c-.4-.4-.92-.59-1.43-.59-.52 0-1.04.2-1.43.59L10.3 9.45l-7.72 7.72c-.78.78-.78 2.05 0 2.83L4 21.41c.39.39.9.59 1.41.59.51 0 1.02-.2 1.41-.59l7.78-7.78 2.81-2.81c.8-.78.8-2.07 0-2.86zM5.41 20L4 18.59l7.72-7.72 1.47 1.35L5.41 20z\"/>\n",
              "  </svg>\n",
              "      </button>\n",
              "      \n",
              "  <style>\n",
              "    .colab-df-container {\n",
              "      display:flex;\n",
              "      flex-wrap:wrap;\n",
              "      gap: 12px;\n",
              "    }\n",
              "\n",
              "    .colab-df-convert {\n",
              "      background-color: #E8F0FE;\n",
              "      border: none;\n",
              "      border-radius: 50%;\n",
              "      cursor: pointer;\n",
              "      display: none;\n",
              "      fill: #1967D2;\n",
              "      height: 32px;\n",
              "      padding: 0 0 0 0;\n",
              "      width: 32px;\n",
              "    }\n",
              "\n",
              "    .colab-df-convert:hover {\n",
              "      background-color: #E2EBFA;\n",
              "      box-shadow: 0px 1px 2px rgba(60, 64, 67, 0.3), 0px 1px 3px 1px rgba(60, 64, 67, 0.15);\n",
              "      fill: #174EA6;\n",
              "    }\n",
              "\n",
              "    [theme=dark] .colab-df-convert {\n",
              "      background-color: #3B4455;\n",
              "      fill: #D2E3FC;\n",
              "    }\n",
              "\n",
              "    [theme=dark] .colab-df-convert:hover {\n",
              "      background-color: #434B5C;\n",
              "      box-shadow: 0px 1px 3px 1px rgba(0, 0, 0, 0.15);\n",
              "      filter: drop-shadow(0px 1px 2px rgba(0, 0, 0, 0.3));\n",
              "      fill: #FFFFFF;\n",
              "    }\n",
              "  </style>\n",
              "\n",
              "      <script>\n",
              "        const buttonEl =\n",
              "          document.querySelector('#df-780fccbc-dfde-44c3-8029-588860c0fd5d button.colab-df-convert');\n",
              "        buttonEl.style.display =\n",
              "          google.colab.kernel.accessAllowed ? 'block' : 'none';\n",
              "\n",
              "        async function convertToInteractive(key) {\n",
              "          const element = document.querySelector('#df-780fccbc-dfde-44c3-8029-588860c0fd5d');\n",
              "          const dataTable =\n",
              "            await google.colab.kernel.invokeFunction('convertToInteractive',\n",
              "                                                     [key], {});\n",
              "          if (!dataTable) return;\n",
              "\n",
              "          const docLinkHtml = 'Like what you see? Visit the ' +\n",
              "            '<a target=\"_blank\" href=https://colab.research.google.com/notebooks/data_table.ipynb>data table notebook</a>'\n",
              "            + ' to learn more about interactive tables.';\n",
              "          element.innerHTML = '';\n",
              "          dataTable['output_type'] = 'display_data';\n",
              "          await google.colab.output.renderOutput(dataTable, element);\n",
              "          const docLink = document.createElement('div');\n",
              "          docLink.innerHTML = docLinkHtml;\n",
              "          element.appendChild(docLink);\n",
              "        }\n",
              "      </script>\n",
              "    </div>\n",
              "  </div>\n",
              "  "
            ]
          },
          "metadata": {},
          "execution_count": 12
        }
      ]
    },
    {
      "cell_type": "markdown",
      "source": [
        "**DATA PREPROCESSING**"
      ],
      "metadata": {
        "id": "2iviaVQeGenB"
      }
    },
    {
      "cell_type": "code",
      "source": [
        "@dataclass\n",
        "class DataMethCountryPreprocessing :\n",
        "  country : Country\n",
        "  df: pd.DataFrame\n",
        "\n",
        "\n",
        "  def CleaningAndRename(self):\n",
        "    self.df['date'] = self.df['time'].str[2:]\n",
        "    self.df['date'] = pd.to_datetime(self.df['date'])\n",
        "    self.df = self.df.rename(columns = {'EN.ATM.METH.EG.KT.CE' : 'ktofCO2'})\n",
        "    del self.df['time']\n",
        "    self.df = self.df.set_index('date')\n",
        "\n",
        "  def MissingValue(self) :\n",
        "     print('count null value :', self.df.isnull().sum())\n",
        "\n",
        "  def HandlingFormatDateIndex(self) :\n",
        "    _, BeginYear, LastYearToPredict = HandlingPeriodFormatInput(self.country.period_time)\n",
        "    start = str(BeginYear) + \"-01-01\"\n",
        "    end = str(LastYearToPredict) + \"-01-01\"\n",
        "    dates = pd.date_range(start=start,end=end)\n",
        "    self.df= self.df.reindex(dates, fill_value=0)\n",
        "    self.df = self.df.resample('Y').sum()"
      ],
      "metadata": {
        "id": "FyRq_edIEpW-"
      },
      "execution_count": null,
      "outputs": []
    },
    {
      "cell_type": "code",
      "source": [
        "DMCP = DataMethCountryPreprocessing(France, df_France)\n",
        "DMCP.CleaningAndRename()\n",
        "DMCP.MissingValue()\n",
        "DMCP.HandlingFormatDateIndex()"
      ],
      "metadata": {
        "colab": {
          "base_uri": "https://localhost:8080/"
        },
        "id": "kg8muNcQHWfv",
        "outputId": "54c2b4c7-eb5f-4d46-b39c-4e4b85fa2485"
      },
      "execution_count": null,
      "outputs": [
        {
          "output_type": "stream",
          "name": "stdout",
          "text": [
            "count null value : ktofCO2    2\n",
            "dtype: int64\n"
          ]
        }
      ]
    },
    {
      "cell_type": "code",
      "source": [
        "df = DMCP.df"
      ],
      "metadata": {
        "id": "FBk9vK_eMhxy"
      },
      "execution_count": null,
      "outputs": []
    },
    {
      "cell_type": "markdown",
      "source": [
        "Cleaning Data"
      ],
      "metadata": {
        "id": "zPw_bhBVo7fP"
      }
    },
    {
      "cell_type": "code",
      "source": [
        "df.plot(figsize=(15, 6))\n",
        "plt.show()"
      ],
      "metadata": {
        "colab": {
          "base_uri": "https://localhost:8080/",
          "height": 419
        },
        "id": "PY69ar8awdis",
        "outputId": "ed8da110-4395-4cfe-9d94-b491c669305b"
      },
      "execution_count": null,
      "outputs": [
        {
          "output_type": "display_data",
          "data": {
            "text/plain": [
              "<Figure size 1080x432 with 1 Axes>"
            ],
            "image/png": "[encoded data removed]"
          },
          "metadata": {}
        }
      ]
    },
    {
      "cell_type": "code",
      "source": [
        "#Handling Missing data"
      ],
      "metadata": {
        "id": "2-S0Gaiw1H9f"
      },
      "execution_count": null,
      "outputs": []
    },
    {
      "cell_type": "code",
      "source": [
        "#Interpolation method\n",
        "# Extrapolation\n",
        "#MeanMedianMode\n",
        "#Forward/backward fill\n",
        "#Time-based interpolation"
      ],
      "metadata": {
        "id": "hJYAhMgT1IEI"
      },
      "execution_count": null,
      "outputs": []
    },
    {
      "cell_type": "code",
      "source": [
        "import pandas as pd\n",
        "\n",
        "# create a sample time series dataframe with missing values\n",
        "data = {'date': ['2022-01-01', '2022-01-02', '2022-01-03', '2022-01-04', '2022-01-05'],\n",
        "        'value': [1, None, 3, None, 5]}\n",
        "df = pd.DataFrame(data)\n",
        "df['date'] = pd.to_datetime(df['date'])\n",
        "df.set_index('date', inplace=True)\n",
        "\n",
        "# use linear interpolation to fill missing values\n",
        "df.interpolate(method='linear', inplace=True)"
      ],
      "metadata": {
        "id": "mmNFYdIl1IHe"
      },
      "execution_count": 1,
      "outputs": []
    },
    {
      "cell_type": "code",
      "source": [
        "df"
      ],
      "metadata": {
        "id": "mh3-gm801ILs"
      },
      "execution_count": null,
      "outputs": []
    },
    {
      "cell_type": "code",
      "source": [],
      "metadata": {
        "id": "9Q2kXD-z1ION"
      },
      "execution_count": null,
      "outputs": []
    },
    {
      "cell_type": "code",
      "source": [],
      "metadata": {
        "id": "4ytas8pw1IQu"
      },
      "execution_count": null,
      "outputs": []
    },
    {
      "cell_type": "code",
      "source": [],
      "metadata": {
        "id": "6pN31VWM1ITf"
      },
      "execution_count": null,
      "outputs": []
    },
    {
      "cell_type": "code",
      "source": [],
      "metadata": {
        "id": "fgCFmIV71IWM"
      },
      "execution_count": null,
      "outputs": []
    },
    {
      "cell_type": "code",
      "source": [
        "from sklearn.linear_model import LinearRegression\n",
        "from sklearn.metrics import mean_squared_error"
      ],
      "metadata": {
        "id": "qmswO74wSZQw"
      },
      "execution_count": null,
      "outputs": []
    },
    {
      "cell_type": "markdown",
      "source": [
        "Handle missing value"
      ],
      "metadata": {
        "id": "oWrhz2esSeLb"
      }
    },
    {
      "cell_type": "code",
      "source": [
        "# Define the indicators to retrieve data for\n",
        "indicators = QUERY_ID + predictors_id2\n",
        "# Retrieve the data for all countries and all years\n",
        "France = Country('France', 'FRA', [1960, 2026, 1], indicators)\n",
        "df_France = France.getDataMethEmissionByCountryAndYears()\n",
        "DMCP = DataMethCountryPreprocessing(France, df_France)\n",
        "DMCP.CleaningAndRename()\n",
        "DMCP.MissingValue()\n",
        "DMCP.HandlingFormatDateIndex()\n",
        "df_France = DMCP.df\n",
        "\n",
        "# Replace missing values with NaN\n",
        "df_France.replace(0, pd.np.nan, inplace=True)\n",
        "print('whyyyyy', df_France[df_France['ktofCO2'].isna()])\n",
        "print(df_France)\n",
        "\n",
        "print('FRANNNNNCE', df_France)\n",
        "# Split the data into a training set and a test set\n",
        "\n",
        "train_data = df_France.dropna(subset=['ktofCO2'])\n",
        "test_data = df_France[df_France['ktofCO2'].isna()]\n",
        "\n",
        "# print('traindata', train_data)\n",
        "print('testdata', test_data)\n",
        "# Define the predictors and the response variable\n",
        "X_train = train_data.drop(columns='ktofCO2')\n",
        "print('trainnnnnnn', X_train)\n",
        "\n",
        "y_train = train_data['ktofCO2']\n",
        "X_test = test_data.drop(columns= 'ktofCO2')\n",
        "print('testtttttttttt', y_train)\n",
        "print(len(X_train))\n",
        "print(len(y_train))\n",
        "# Fit the linear regression model\n",
        "linear_regression = LinearRegression()\n",
        "linear_regression.fit(X_train, y_train)\n",
        "\n",
        "print(X_test)\n",
        "# Predict the missing values\n",
        "y_pred = linear_regression.predict(X_test)\n",
        "\n",
        "# Add the predicted values to the test set\n",
        "test_data[QUERY_ID] = y_pred\n",
        "\n",
        "# Concatenate the test set with the training set\n",
        "df = pd.concat([train_data, test_data])\n",
        "\n",
        "print(df)\n",
        "\n",
        "# Calculate the root mean squared error\n",
        "rmse = mean_squared_error(df['ktofCO2'], y_pred, squared=False)\n",
        "print(\"Root Mean Squared Error: \", rmse)\n"
      ],
      "metadata": {
        "colab": {
          "base_uri": "https://localhost:8080/",
          "height": 1000
        },
        "id": "kCG-gO07ShV0",
        "outputId": "e50407fb-5e53-48bd-8813-a2e1004759a9"
      },
      "execution_count": null,
      "outputs": [
        {
          "output_type": "stream",
          "name": "stdout",
          "text": [
            "count null value : EG.USE.PCAP.KG.OE     6\n",
            "EN.ATM.CO2E.KT       32\n",
            "ktofCO2              32\n",
            "NV.IND.TOTL.ZS        0\n",
            "dtype: int64\n",
            "whyyyyy             EG.USE.PCAP.KG.OE  EN.ATM.CO2E.KT  ktofCO2  NV.IND.TOTL.ZS\n",
            "1960-12-31        1698.222250             NaN      NaN       30.275014\n",
            "1961-12-31        1748.120660             NaN      NaN       30.666667\n",
            "1962-12-31        1869.827683             NaN      NaN       29.986293\n",
            "1963-12-31        1999.628470             NaN      NaN       29.668934\n",
            "1964-12-31        2106.408428             NaN      NaN       30.167479\n",
            "1965-12-31        2132.768529             NaN      NaN       30.281856\n",
            "1966-12-31        2144.787082             NaN      NaN       30.056987\n",
            "1967-12-31        2267.809310             NaN      NaN       29.712435\n",
            "1968-12-31        2376.530580             NaN      NaN       29.332637\n",
            "1969-12-31        2550.970426             NaN      NaN       28.793407\n",
            "1970-12-31        2964.808079             NaN      NaN       29.045013\n",
            "1971-12-31        3038.618615             NaN      NaN       29.503110\n",
            "1972-12-31        3180.100691             NaN      NaN       28.883549\n",
            "1973-12-31        3395.341848             NaN      NaN       29.188000\n",
            "1974-12-31        3264.110774             NaN      NaN       28.752860\n",
            "1975-12-31        3071.017126             NaN      NaN       28.648951\n",
            "1976-12-31        3263.000523             NaN      NaN       28.168973\n",
            "1977-12-31        3187.192473             NaN      NaN       28.112136\n",
            "1978-12-31        3382.057253             NaN      NaN       28.012277\n",
            "1979-12-31        3506.338682             NaN      NaN       27.628889\n",
            "1980-12-31        3483.401541             NaN      NaN       27.769883\n",
            "1981-12-31        3382.781098             NaN      NaN       27.067659\n",
            "1982-12-31        3281.724300             NaN      NaN       26.446572\n",
            "1983-12-31        3349.392999             NaN      NaN       26.242713\n",
            "1984-12-31        3452.299546             NaN      NaN       25.778397\n",
            "1985-12-31        3603.082879             NaN      NaN       25.638620\n",
            "1986-12-31        3640.011773             NaN      NaN       25.459983\n",
            "1987-12-31        3710.934268             NaN      NaN       25.050614\n",
            "1988-12-31        3675.419897             NaN      NaN       24.981221\n",
            "1989-12-31        3807.328555             NaN      NaN       24.386709\n",
            "2020-12-31                NaN             NaN      NaN       16.495439\n",
            "2021-12-31                NaN             NaN      NaN       16.655724\n",
            "2022-12-31                NaN             NaN      NaN             NaN\n",
            "2023-12-31                NaN             NaN      NaN             NaN\n",
            "2024-12-31                NaN             NaN      NaN             NaN\n",
            "2025-12-31                NaN             NaN      NaN             NaN\n",
            "2026-12-31                NaN             NaN      NaN             NaN\n",
            "            EG.USE.PCAP.KG.OE  EN.ATM.CO2E.KT  ktofCO2  NV.IND.TOTL.ZS\n",
            "1960-12-31        1698.222250             NaN      NaN       30.275014\n",
            "1961-12-31        1748.120660             NaN      NaN       30.666667\n",
            "1962-12-31        1869.827683             NaN      NaN       29.986293\n",
            "1963-12-31        1999.628470             NaN      NaN       29.668934\n",
            "1964-12-31        2106.408428             NaN      NaN       30.167479\n",
            "...                       ...             ...      ...             ...\n",
            "2022-12-31                NaN             NaN      NaN             NaN\n",
            "2023-12-31                NaN             NaN      NaN             NaN\n",
            "2024-12-31                NaN             NaN      NaN             NaN\n",
            "2025-12-31                NaN             NaN      NaN             NaN\n",
            "2026-12-31                NaN             NaN      NaN             NaN\n",
            "\n",
            "[67 rows x 4 columns]\n",
            "FRANNNNNCE             EG.USE.PCAP.KG.OE  EN.ATM.CO2E.KT  ktofCO2  NV.IND.TOTL.ZS\n",
            "1960-12-31        1698.222250             NaN      NaN       30.275014\n",
            "1961-12-31        1748.120660             NaN      NaN       30.666667\n",
            "1962-12-31        1869.827683             NaN      NaN       29.986293\n",
            "1963-12-31        1999.628470             NaN      NaN       29.668934\n",
            "1964-12-31        2106.408428             NaN      NaN       30.167479\n",
            "...                       ...             ...      ...             ...\n",
            "2022-12-31                NaN             NaN      NaN             NaN\n",
            "2023-12-31                NaN             NaN      NaN             NaN\n",
            "2024-12-31                NaN             NaN      NaN             NaN\n",
            "2025-12-31                NaN             NaN      NaN             NaN\n",
            "2026-12-31                NaN             NaN      NaN             NaN\n",
            "\n",
            "[67 rows x 4 columns]\n",
            "testdata             EG.USE.PCAP.KG.OE  EN.ATM.CO2E.KT  ktofCO2  NV.IND.TOTL.ZS\n",
            "1960-12-31        1698.222250             NaN      NaN       30.275014\n",
            "1961-12-31        1748.120660             NaN      NaN       30.666667\n",
            "1962-12-31        1869.827683             NaN      NaN       29.986293\n",
            "1963-12-31        1999.628470             NaN      NaN       29.668934\n",
            "1964-12-31        2106.408428             NaN      NaN       30.167479\n",
            "1965-12-31        2132.768529             NaN      NaN       30.281856\n",
            "1966-12-31        2144.787082             NaN      NaN       30.056987\n",
            "1967-12-31        2267.809310             NaN      NaN       29.712435\n",
            "1968-12-31        2376.530580             NaN      NaN       29.332637\n",
            "1969-12-31        2550.970426             NaN      NaN       28.793407\n",
            "1970-12-31        2964.808079             NaN      NaN       29.045013\n",
            "1971-12-31        3038.618615             NaN      NaN       29.503110\n",
            "1972-12-31        3180.100691             NaN      NaN       28.883549\n",
            "1973-12-31        3395.341848             NaN      NaN       29.188000\n",
            "1974-12-31        3264.110774             NaN      NaN       28.752860\n",
            "1975-12-31        3071.017126             NaN      NaN       28.648951\n",
            "1976-12-31        3263.000523             NaN      NaN       28.168973\n",
            "1977-12-31        3187.192473             NaN      NaN       28.112136\n",
            "1978-12-31        3382.057253             NaN      NaN       28.012277\n",
            "1979-12-31        3506.338682             NaN      NaN       27.628889\n",
            "1980-12-31        3483.401541             NaN      NaN       27.769883\n",
            "1981-12-31        3382.781098             NaN      NaN       27.067659\n",
            "1982-12-31        3281.724300             NaN      NaN       26.446572\n",
            "1983-12-31        3349.392999             NaN      NaN       26.242713\n",
            "1984-12-31        3452.299546             NaN      NaN       25.778397\n",
            "1985-12-31        3603.082879             NaN      NaN       25.638620\n",
            "1986-12-31        3640.011773             NaN      NaN       25.459983\n",
            "1987-12-31        3710.934268             NaN      NaN       25.050614\n",
            "1988-12-31        3675.419897             NaN      NaN       24.981221\n",
            "1989-12-31        3807.328555             NaN      NaN       24.386709\n",
            "2020-12-31                NaN             NaN      NaN       16.495439\n",
            "2021-12-31                NaN             NaN      NaN       16.655724\n",
            "2022-12-31                NaN             NaN      NaN             NaN\n",
            "2023-12-31                NaN             NaN      NaN             NaN\n",
            "2024-12-31                NaN             NaN      NaN             NaN\n",
            "2025-12-31                NaN             NaN      NaN             NaN\n",
            "2026-12-31                NaN             NaN      NaN             NaN\n",
            "trainnnnnnn             EG.USE.PCAP.KG.OE  EN.ATM.CO2E.KT  NV.IND.TOTL.ZS\n",
            "1990-12-31        3859.283830   356240.000000       24.456455\n",
            "1991-12-31        4043.218745   380650.000000       24.299696\n",
            "1992-12-31        3954.088792   368590.000000       24.006638\n",
            "1993-12-31        4001.942285   349420.000000       23.061958\n",
            "1994-12-31        3836.086940   344400.000000       22.244372\n",
            "1995-12-31        3981.234828   352240.000000       22.309778\n",
            "1996-12-31        4191.683008   367900.000000       21.675187\n",
            "1997-12-31        4048.888623   359070.000000       21.527301\n",
            "1998-12-31        4151.178738   381110.000000       21.444845\n",
            "1999-12-31        4123.001361   374900.000000       21.201728\n",
            "2000-12-31        4134.874579   373120.000000       21.293940\n",
            "2001-12-31        4245.315949   376730.000000       20.938370\n",
            "2002-12-31        4224.718316   371019.989014       20.649453\n",
            "2003-12-31        4270.120470   376709.991455       20.191811\n",
            "2004-12-31        4300.954540   377790.008545       19.957524\n",
            "2005-12-31        4286.543803   380660.003662       19.609605\n",
            "2006-12-31        4188.389999   371549.987793       19.284084\n",
            "2007-12-31        4115.173039   362829.986572       19.136739\n",
            "2008-12-31        4110.284802   357989.990234       18.813831\n",
            "2009-12-31        3913.225472   343730.010986       18.304843\n",
            "2010-12-31        4016.658441   347779.998779       17.845736\n",
            "2011-12-31        3846.928314   335140.014648       17.978166\n",
            "2012-12-31        3836.514548   338420.013428       17.868551\n",
            "2013-12-31        3833.324932   338559.997559       17.971801\n",
            "2014-12-31        3659.087795   306100.006104       17.745940\n",
            "2015-12-31        3692.017833   311299.987793       17.679692\n",
            "2016-12-31                NaN   313920.013428       17.434132\n",
            "2017-12-31                NaN   317829.986572       17.241153\n",
            "2018-12-31                NaN   307049.987793       17.188379\n",
            "2019-12-31                NaN   300519.989014       17.424676\n",
            "testtttttttttt 1990-12-31    5950.0\n",
            "1991-12-31    6640.0\n",
            "1992-12-31    6430.0\n",
            "1993-12-31    6310.0\n",
            "1994-12-31    5820.0\n",
            "1995-12-31    5910.0\n",
            "1996-12-31    6230.0\n",
            "1997-12-31    5720.0\n",
            "1998-12-31    5760.0\n",
            "1999-12-31    5630.0\n",
            "2000-12-31    5510.0\n",
            "2001-12-31    5660.0\n",
            "2002-12-31    5430.0\n",
            "2003-12-31    5670.0\n",
            "2004-12-31    5690.0\n",
            "2005-12-31    5610.0\n",
            "2006-12-31    5280.0\n",
            "2007-12-31    5160.0\n",
            "2008-12-31    5360.0\n",
            "2009-12-31    5340.0\n",
            "2010-12-31    5770.0\n",
            "2011-12-31    4870.0\n",
            "2012-12-31    5230.0\n",
            "2013-12-31    5500.0\n",
            "2014-12-31    4680.0\n",
            "2015-12-31    4920.0\n",
            "2016-12-31    5240.0\n",
            "2017-12-31    5130.0\n",
            "2018-12-31    4990.0\n",
            "2019-12-31    5060.0\n",
            "Freq: A-DEC, Name: ktofCO2, dtype: float64\n",
            "30\n",
            "30\n"
          ]
        },
        {
          "output_type": "error",
          "ename": "ValueError",
          "evalue": "ignored",
          "traceback": [
            "\u001b[0;31m---------------------------------------------------------------------------\u001b[0m",
            "\u001b[0;31mValueError\u001b[0m                                Traceback (most recent call last)",
            "\u001b[0;32m<ipython-input-19-9b585d318ed1>\u001b[0m in \u001b[0;36m<module>\u001b[0;34m\u001b[0m\n\u001b[1;32m     34\u001b[0m \u001b[0;31m# Fit the linear regression model\u001b[0m\u001b[0;34m\u001b[0m\u001b[0;34m\u001b[0m\u001b[0;34m\u001b[0m\u001b[0m\n\u001b[1;32m     35\u001b[0m \u001b[0mlinear_regression\u001b[0m \u001b[0;34m=\u001b[0m \u001b[0mLinearRegression\u001b[0m\u001b[0;34m(\u001b[0m\u001b[0;34m)\u001b[0m\u001b[0;34m\u001b[0m\u001b[0;34m\u001b[0m\u001b[0m\n\u001b[0;32m---> 36\u001b[0;31m \u001b[0mlinear_regression\u001b[0m\u001b[0;34m.\u001b[0m\u001b[0mfit\u001b[0m\u001b[0;34m(\u001b[0m\u001b[0mX_train\u001b[0m\u001b[0;34m,\u001b[0m \u001b[0my_train\u001b[0m\u001b[0;34m)\u001b[0m\u001b[0;34m\u001b[0m\u001b[0;34m\u001b[0m\u001b[0m\n\u001b[0m\u001b[1;32m     37\u001b[0m \u001b[0;34m\u001b[0m\u001b[0m\n\u001b[1;32m     38\u001b[0m \u001b[0mprint\u001b[0m\u001b[0;34m(\u001b[0m\u001b[0mX_test\u001b[0m\u001b[0;34m)\u001b[0m\u001b[0;34m\u001b[0m\u001b[0;34m\u001b[0m\u001b[0m\n",
            "\u001b[0;32m/usr/local/lib/python3.8/dist-packages/sklearn/linear_model/_base.py\u001b[0m in \u001b[0;36mfit\u001b[0;34m(self, X, y, sample_weight)\u001b[0m\n\u001b[1;32m    660\u001b[0m         \u001b[0maccept_sparse\u001b[0m \u001b[0;34m=\u001b[0m \u001b[0;32mFalse\u001b[0m \u001b[0;32mif\u001b[0m \u001b[0mself\u001b[0m\u001b[0;34m.\u001b[0m\u001b[0mpositive\u001b[0m \u001b[0;32melse\u001b[0m \u001b[0;34m[\u001b[0m\u001b[0;34m\"csr\"\u001b[0m\u001b[0;34m,\u001b[0m \u001b[0;34m\"csc\"\u001b[0m\u001b[0;34m,\u001b[0m \u001b[0;34m\"coo\"\u001b[0m\u001b[0;34m]\u001b[0m\u001b[0;34m\u001b[0m\u001b[0;34m\u001b[0m\u001b[0m\n\u001b[1;32m    661\u001b[0m \u001b[0;34m\u001b[0m\u001b[0m\n\u001b[0;32m--> 662\u001b[0;31m         X, y = self._validate_data(\n\u001b[0m\u001b[1;32m    663\u001b[0m             \u001b[0mX\u001b[0m\u001b[0;34m,\u001b[0m \u001b[0my\u001b[0m\u001b[0;34m,\u001b[0m \u001b[0maccept_sparse\u001b[0m\u001b[0;34m=\u001b[0m\u001b[0maccept_sparse\u001b[0m\u001b[0;34m,\u001b[0m \u001b[0my_numeric\u001b[0m\u001b[0;34m=\u001b[0m\u001b[0;32mTrue\u001b[0m\u001b[0;34m,\u001b[0m \u001b[0mmulti_output\u001b[0m\u001b[0;34m=\u001b[0m\u001b[0;32mTrue\u001b[0m\u001b[0;34m\u001b[0m\u001b[0;34m\u001b[0m\u001b[0m\n\u001b[1;32m    664\u001b[0m         )\n",
            "\u001b[0;32m/usr/local/lib/python3.8/dist-packages/sklearn/base.py\u001b[0m in \u001b[0;36m_validate_data\u001b[0;34m(self, X, y, reset, validate_separately, **check_params)\u001b[0m\n\u001b[1;32m    579\u001b[0m                 \u001b[0my\u001b[0m \u001b[0;34m=\u001b[0m \u001b[0mcheck_array\u001b[0m\u001b[0;34m(\u001b[0m\u001b[0my\u001b[0m\u001b[0;34m,\u001b[0m \u001b[0;34m**\u001b[0m\u001b[0mcheck_y_params\u001b[0m\u001b[0;34m)\u001b[0m\u001b[0;34m\u001b[0m\u001b[0;34m\u001b[0m\u001b[0m\n\u001b[1;32m    580\u001b[0m             \u001b[0;32melse\u001b[0m\u001b[0;34m:\u001b[0m\u001b[0;34m\u001b[0m\u001b[0;34m\u001b[0m\u001b[0m\n\u001b[0;32m--> 581\u001b[0;31m                 \u001b[0mX\u001b[0m\u001b[0;34m,\u001b[0m \u001b[0my\u001b[0m \u001b[0;34m=\u001b[0m \u001b[0mcheck_X_y\u001b[0m\u001b[0;34m(\u001b[0m\u001b[0mX\u001b[0m\u001b[0;34m,\u001b[0m \u001b[0my\u001b[0m\u001b[0;34m,\u001b[0m \u001b[0;34m**\u001b[0m\u001b[0mcheck_params\u001b[0m\u001b[0;34m)\u001b[0m\u001b[0;34m\u001b[0m\u001b[0;34m\u001b[0m\u001b[0m\n\u001b[0m\u001b[1;32m    582\u001b[0m             \u001b[0mout\u001b[0m \u001b[0;34m=\u001b[0m \u001b[0mX\u001b[0m\u001b[0;34m,\u001b[0m \u001b[0my\u001b[0m\u001b[0;34m\u001b[0m\u001b[0;34m\u001b[0m\u001b[0m\n\u001b[1;32m    583\u001b[0m \u001b[0;34m\u001b[0m\u001b[0m\n",
            "\u001b[0;32m/usr/local/lib/python3.8/dist-packages/sklearn/utils/validation.py\u001b[0m in \u001b[0;36mcheck_X_y\u001b[0;34m(X, y, accept_sparse, accept_large_sparse, dtype, order, copy, force_all_finite, ensure_2d, allow_nd, multi_output, ensure_min_samples, ensure_min_features, y_numeric, estimator)\u001b[0m\n\u001b[1;32m    962\u001b[0m         \u001b[0;32mraise\u001b[0m \u001b[0mValueError\u001b[0m\u001b[0;34m(\u001b[0m\u001b[0;34m\"y cannot be None\"\u001b[0m\u001b[0;34m)\u001b[0m\u001b[0;34m\u001b[0m\u001b[0;34m\u001b[0m\u001b[0m\n\u001b[1;32m    963\u001b[0m \u001b[0;34m\u001b[0m\u001b[0m\n\u001b[0;32m--> 964\u001b[0;31m     X = check_array(\n\u001b[0m\u001b[1;32m    965\u001b[0m         \u001b[0mX\u001b[0m\u001b[0;34m,\u001b[0m\u001b[0;34m\u001b[0m\u001b[0;34m\u001b[0m\u001b[0m\n\u001b[1;32m    966\u001b[0m         \u001b[0maccept_sparse\u001b[0m\u001b[0;34m=\u001b[0m\u001b[0maccept_sparse\u001b[0m\u001b[0;34m,\u001b[0m\u001b[0;34m\u001b[0m\u001b[0;34m\u001b[0m\u001b[0m\n",
            "\u001b[0;32m/usr/local/lib/python3.8/dist-packages/sklearn/utils/validation.py\u001b[0m in \u001b[0;36mcheck_array\u001b[0;34m(array, accept_sparse, accept_large_sparse, dtype, order, copy, force_all_finite, ensure_2d, allow_nd, ensure_min_samples, ensure_min_features, estimator)\u001b[0m\n\u001b[1;32m    798\u001b[0m \u001b[0;34m\u001b[0m\u001b[0m\n\u001b[1;32m    799\u001b[0m         \u001b[0;32mif\u001b[0m \u001b[0mforce_all_finite\u001b[0m\u001b[0;34m:\u001b[0m\u001b[0;34m\u001b[0m\u001b[0;34m\u001b[0m\u001b[0m\n\u001b[0;32m--> 800\u001b[0;31m             \u001b[0m_assert_all_finite\u001b[0m\u001b[0;34m(\u001b[0m\u001b[0marray\u001b[0m\u001b[0;34m,\u001b[0m \u001b[0mallow_nan\u001b[0m\u001b[0;34m=\u001b[0m\u001b[0mforce_all_finite\u001b[0m \u001b[0;34m==\u001b[0m \u001b[0;34m\"allow-nan\"\u001b[0m\u001b[0;34m)\u001b[0m\u001b[0;34m\u001b[0m\u001b[0;34m\u001b[0m\u001b[0m\n\u001b[0m\u001b[1;32m    801\u001b[0m \u001b[0;34m\u001b[0m\u001b[0m\n\u001b[1;32m    802\u001b[0m     \u001b[0;32mif\u001b[0m \u001b[0mensure_min_samples\u001b[0m \u001b[0;34m>\u001b[0m \u001b[0;36m0\u001b[0m\u001b[0;34m:\u001b[0m\u001b[0;34m\u001b[0m\u001b[0;34m\u001b[0m\u001b[0m\n",
            "\u001b[0;32m/usr/local/lib/python3.8/dist-packages/sklearn/utils/validation.py\u001b[0m in \u001b[0;36m_assert_all_finite\u001b[0;34m(X, allow_nan, msg_dtype)\u001b[0m\n\u001b[1;32m    112\u001b[0m         ):\n\u001b[1;32m    113\u001b[0m             \u001b[0mtype_err\u001b[0m \u001b[0;34m=\u001b[0m \u001b[0;34m\"infinity\"\u001b[0m \u001b[0;32mif\u001b[0m \u001b[0mallow_nan\u001b[0m \u001b[0;32melse\u001b[0m \u001b[0;34m\"NaN, infinity\"\u001b[0m\u001b[0;34m\u001b[0m\u001b[0;34m\u001b[0m\u001b[0m\n\u001b[0;32m--> 114\u001b[0;31m             raise ValueError(\n\u001b[0m\u001b[1;32m    115\u001b[0m                 msg_err.format(\n\u001b[1;32m    116\u001b[0m                     \u001b[0mtype_err\u001b[0m\u001b[0;34m,\u001b[0m \u001b[0mmsg_dtype\u001b[0m \u001b[0;32mif\u001b[0m \u001b[0mmsg_dtype\u001b[0m \u001b[0;32mis\u001b[0m \u001b[0;32mnot\u001b[0m \u001b[0;32mNone\u001b[0m \u001b[0;32melse\u001b[0m \u001b[0mX\u001b[0m\u001b[0;34m.\u001b[0m\u001b[0mdtype\u001b[0m\u001b[0;34m\u001b[0m\u001b[0;34m\u001b[0m\u001b[0m\n",
            "\u001b[0;31mValueError\u001b[0m: Input contains NaN, infinity or a value too large for dtype('float64')."
          ]
        }
      ]
    },
    {
      "cell_type": "code",
      "source": [],
      "metadata": {
        "id": "c-pxsMuJhX9d"
      },
      "execution_count": null,
      "outputs": []
    },
    {
      "cell_type": "code",
      "source": [
        "from wbgapi import WorldBank\n",
        "\n",
        "# Create a WorldBank object\n",
        "wb = WorldBank()\n",
        "\n",
        "# Define the country code and year\n",
        "country_code = 'USA'\n",
        "year = '2018'\n",
        "\n",
        "# Get the methane emissions data for the specified country and year\n",
        "methane_emissions = wb.indicator(indicator='EN.ATM.METH.KT.CE', country=country_code, date=year)\n",
        "\n",
        "# Get the data for other indicators\n",
        "co2_emissions = wb.indicator(indicator='EN.ATM.CO2E.KT', country=country_code, date=year)\n",
        "energy_use = wb.indicator(indicator='EG.USE.PCAP.KG.OE', country=country_code, date=year)\n",
        "industrial_production = wb.indicator(indicator='NV.IND.TOTL.ZS', country=country_code, date=year)\n"
      ],
      "metadata": {
        "id": "XNBE51iIhYAy"
      },
      "execution_count": null,
      "outputs": []
    }
  ]
}