{
 "cells": [
  {
   "cell_type": "code",
   "execution_count": 322,
   "id": "89ecaa57",
   "metadata": {},
   "outputs": [],
   "source": [
    "import wbgapi as wb\n",
    "import pandas as pd\n",
    "import warnings\n",
    "import itertools\n",
    "import numpy as np\n",
    "import matplotlib.pyplot as plt\n",
    "import seaborn as sns\n",
    "warnings.filterwarnings(\"ignore\")\n",
    "plt.style.use('fivethirtyeight')\n",
    "import matplotlib\n",
    "from datetime import datetime\n",
    "from dataclasses import dataclass"
   ]
  },
  {
   "cell_type": "code",
   "execution_count": 323,
   "id": "b5572d3c",
   "metadata": {},
   "outputs": [],
   "source": [
    "matplotlib.rcParams['axes.labelsize'] = 14\n",
    "matplotlib.rcParams['xtick.labelsize'] = 12\n",
    "matplotlib.rcParams['ytick.labelsize'] = 12\n",
    "matplotlib.rcParams['text.color'] = 'k'"
   ]
  },
  {
   "cell_type": "code",
   "execution_count": 324,
   "id": "226652c6",
   "metadata": {},
   "outputs": [],
   "source": [
    "wme_df = pd.read_csv('world_methane_emission_first_note.csv', index_col = False)"
   ]
  },
  {
   "cell_type": "code",
   "execution_count": 325,
   "id": "96f022d1",
   "metadata": {},
   "outputs": [],
   "source": [
    "wme_df = wme_df[wme_df['year'] >= 1990]"
   ]
  },
  {
   "cell_type": "code",
   "execution_count": 326,
   "id": "3bf514ac",
   "metadata": {},
   "outputs": [],
   "source": [
    "wme_df = wme_df[wme_df['economy'] == 'CHN'] "
   ]
  },
  {
   "cell_type": "code",
   "execution_count": 327,
   "id": "1becb287",
   "metadata": {},
   "outputs": [],
   "source": [
    "wme_df[\"future_MethaneValue\"] = wme_df[\"GlobalMethane(ktco2)\"].shift(-1)"
   ]
  },
  {
   "cell_type": "code",
   "execution_count": 328,
   "id": "f6078fe3",
   "metadata": {},
   "outputs": [],
   "source": [
    "# wme_df = wme_df[[\"year\", \"LandArea(count)\", \"AirTransport\", \"GlobalMethane(ktco2)\"]]"
   ]
  },
  {
   "cell_type": "code",
   "execution_count": 329,
   "id": "1f9a8697",
   "metadata": {},
   "outputs": [],
   "source": [
    "wme_df = wme_df.set_index('year')"
   ]
  },
  {
   "cell_type": "code",
   "execution_count": 330,
   "id": "96f45b4e",
   "metadata": {},
   "outputs": [
    {
     "data": {
      "text/plain": [
       "(32, 10)"
      ]
     },
     "execution_count": 330,
     "metadata": {},
     "output_type": "execute_result"
    }
   ],
   "source": [
    "wme_df.shape"
   ]
  },
  {
   "cell_type": "code",
   "execution_count": 313,
   "id": "63707f18",
   "metadata": {},
   "outputs": [],
   "source": [
    "wme_df = wme_df.dropna()"
   ]
  },
  {
   "cell_type": "code",
   "execution_count": 314,
   "id": "1814aba4",
   "metadata": {},
   "outputs": [],
   "source": [
    "columns = list(wme_df.columns)"
   ]
  },
  {
   "cell_type": "code",
   "execution_count": 315,
   "id": "57ced902",
   "metadata": {},
   "outputs": [
    {
     "data": {
      "text/plain": [
       "['Unnamed: 0',\n",
       " 'economy',\n",
       " 'GlobalMethane(ktco2)',\n",
       " 'LandArea(count)',\n",
       " 'CO2Emission(kt)',\n",
       " 'AgricultureMethane(ktco2)',\n",
       " 'EnergieMethane(ktco2)',\n",
       " 'AirTransport',\n",
       " 'note_year',\n",
       " 'future_MethaneValue']"
      ]
     },
     "execution_count": 315,
     "metadata": {},
     "output_type": "execute_result"
    }
   ],
   "source": [
    "columns"
   ]
  },
  {
   "cell_type": "code",
   "execution_count": 316,
   "id": "63dc78b8",
   "metadata": {},
   "outputs": [],
   "source": [
    "predictors = columns[2:-1]"
   ]
  },
  {
   "cell_type": "code",
   "execution_count": 317,
   "id": "bff7a797",
   "metadata": {},
   "outputs": [
    {
     "data": {
      "text/plain": [
       "['GlobalMethane(ktco2)',\n",
       " 'LandArea(count)',\n",
       " 'CO2Emission(kt)',\n",
       " 'AgricultureMethane(ktco2)',\n",
       " 'EnergieMethane(ktco2)',\n",
       " 'AirTransport',\n",
       " 'note_year']"
      ]
     },
     "execution_count": 317,
     "metadata": {},
     "output_type": "execute_result"
    }
   ],
   "source": [
    "predictors"
   ]
  },
  {
   "cell_type": "code",
   "execution_count": 318,
   "id": "c79b2561",
   "metadata": {},
   "outputs": [
    {
     "data": {
      "text/plain": [
       "RandomForestRegressor(min_samples_split=50, random_state=1)"
      ]
     },
     "execution_count": 318,
     "metadata": {},
     "output_type": "execute_result"
    }
   ],
   "source": [
    "from sklearn.linear_model import LinearRegression\n",
    "from sklearn.ensemble import RandomForestRegressor\n",
    "\n",
    "from sklearn.metrics import mean_squared_error, r2_score\n",
    "model = RandomForestRegressor(n_estimators=100, min_samples_split=50, random_state=1)\n",
    "lr = LinearRegression()\n",
    "\n",
    "train = wme_df.iloc[:-10]\n",
    "test = wme_df.iloc[-10:]\n",
    "model.fit(train[predictors], train[\"future_MethaneValue\"])"
   ]
  },
  {
   "cell_type": "code",
   "execution_count": 319,
   "id": "94164364",
   "metadata": {},
   "outputs": [
    {
     "data": {
      "text/plain": [
       "year\n",
       "2009    854960.733321\n",
       "2010    854960.733321\n",
       "2011    854960.733321\n",
       "2012    854960.733321\n",
       "2013    854960.733321\n",
       "2014    854960.733321\n",
       "2015    854960.733321\n",
       "2016    854960.733321\n",
       "2017    854960.733321\n",
       "2018    854960.733321\n",
       "dtype: float64"
      ]
     },
     "execution_count": 319,
     "metadata": {},
     "output_type": "execute_result"
    }
   ],
   "source": [
    "preds = model.predict(test[predictors])\n",
    "preds = pd.Series(preds, index=test.index)\n",
    "preds"
   ]
  },
  {
   "cell_type": "code",
   "execution_count": 320,
   "id": "8210e605",
   "metadata": {},
   "outputs": [],
   "source": [
    "def predict(train, test, predictors, model):\n",
    "    model.fit(train[predictors], train[\"target\"])\n",
    "    preds = model.predict(test[predictors])\n",
    "    preds = pd.Series(preds, index=test.index, name=\"predictions\")\n",
    "    combined = pd.concat([test[\"target\"], preds], axis=1)\n",
    "    return combined"
   ]
  },
  {
   "cell_type": "code",
   "execution_count": 321,
   "id": "5eee9313",
   "metadata": {},
   "outputs": [],
   "source": [
    "def backtest(data, model, predictors, start=1095, step=150):\n",
    "    all_predictions = []\n",
    "\n",
    "    for i in range(start, data.shape[0], step):\n",
    "        train = data.iloc[0:i].copy()\n",
    "        test = data.iloc[i:(i+step)].copy()\n",
    "        predictions = predict(train, test, predictors, model)\n",
    "        all_predictions.append(predictions)\n",
    "    \n",
    "    return pd.concat(all_predictions)"
   ]
  },
  {
   "cell_type": "code",
   "execution_count": 233,
   "id": "b268fcc9",
   "metadata": {},
   "outputs": [
    {
     "name": "stdout",
     "output_type": "stream",
     "text": [
      "Collecting xgboost\n",
      "  Downloading xgboost-1.7.3-py3-none-macosx_12_0_arm64.whl (1.6 MB)\n",
      "\u001b[2K     \u001b[90m━━━━━━━━━━━━━━━━━━━━━━━━━━━━━━━━━━━━━━━━\u001b[0m \u001b[32m1.6/1.6 MB\u001b[0m \u001b[31m1.6 MB/s\u001b[0m eta \u001b[36m0:00:00\u001b[0m00:01\u001b[0m00:01\u001b[0m\n",
      "\u001b[?25hRequirement already satisfied: scipy in /Users/mac/.pyenv/versions/3.10.3/lib/python3.10/site-packages (from xgboost) (1.10.0)\n",
      "Requirement already satisfied: numpy in /Users/mac/.pyenv/versions/3.10.3/lib/python3.10/site-packages (from xgboost) (1.24.1)\n",
      "Installing collected packages: xgboost\n",
      "Successfully installed xgboost-1.7.3\n",
      "\u001b[33mWARNING: You are using pip version 22.0.4; however, version 22.3.1 is available.\n",
      "You should consider upgrading via the '/Users/mac/.pyenv/versions/3.10.3/bin/python3.10 -m pip install --upgrade pip' command.\u001b[0m\u001b[33m\n",
      "\u001b[0m"
     ]
    }
   ],
   "source": [
    "!pip install xgboost"
   ]
  },
  {
   "cell_type": "code",
   "execution_count": 235,
   "id": "1c137b06",
   "metadata": {},
   "outputs": [],
   "source": [
    "from sklearn.ensemble import GradientBoostingRegressor"
   ]
  },
  {
   "cell_type": "code",
   "execution_count": 237,
   "id": "e7f7b4d3",
   "metadata": {},
   "outputs": [],
   "source": [
    "est = GradientBoostingRegressor(\n",
    "    n_estimators=100, learning_rate=0.1, max_depth=1, random_state=0,\n",
    "    loss='squared_error').fit(train[predictors], train[\"future_MethaneValue\"])"
   ]
  },
  {
   "cell_type": "code",
   "execution_count": null,
   "id": "9fee43bb",
   "metadata": {},
   "outputs": [],
   "source": []
  }
 ],
 "metadata": {
  "kernelspec": {
   "display_name": "Python 3 (ipykernel)",
   "language": "python",
   "name": "python3"
  },
  "language_info": {
   "codemirror_mode": {
    "name": "ipython",
    "version": 3
   },
   "file_extension": ".py",
   "mimetype": "text/x-python",
   "name": "python",
   "nbconvert_exporter": "python",
   "pygments_lexer": "ipython3",
   "version": "3.9.12"
  }
 },
 "nbformat": 4,
 "nbformat_minor": 5
}
