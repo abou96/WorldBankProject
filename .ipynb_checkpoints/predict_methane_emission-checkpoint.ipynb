{
 "cells": [
  {
   "cell_type": "code",
   "execution_count": 1,
   "id": "42bcea61",
   "metadata": {},
   "outputs": [],
   "source": [
    "from time import time\n",
    "def timer(func):\n",
    "    def f(x, y=10):\n",
    "        before = time()\n",
    "        rv = func(x, y)\n",
    "        after = time()\n",
    "        "
   ]
  },
  {
   "cell_type": "code",
   "execution_count": null,
   "id": "4fe6547c",
   "metadata": {},
   "outputs": [],
   "source": []
  },
  {
   "cell_type": "code",
   "execution_count": null,
   "id": "83c1c7b3",
   "metadata": {},
   "outputs": [],
   "source": []
  },
  {
   "cell_type": "code",
   "execution_count": null,
   "id": "5b4d06b0",
   "metadata": {},
   "outputs": [],
   "source": []
  },
  {
   "cell_type": "code",
   "execution_count": null,
   "id": "558ce8fa",
   "metadata": {},
   "outputs": [],
   "source": []
  },
  {
   "cell_type": "code",
   "execution_count": null,
   "id": "6c822a18",
   "metadata": {},
   "outputs": [],
   "source": []
  },
  {
   "cell_type": "code",
   "execution_count": null,
   "id": "4eafa410",
   "metadata": {},
   "outputs": [],
   "source": []
  },
  {
   "cell_type": "code",
   "execution_count": null,
   "id": "206d7a91",
   "metadata": {},
   "outputs": [],
   "source": []
  },
  {
   "cell_type": "code",
   "execution_count": null,
   "id": "cc89024d",
   "metadata": {},
   "outputs": [],
   "source": []
  },
  {
   "cell_type": "code",
   "execution_count": null,
   "id": "58b4e07f",
   "metadata": {},
   "outputs": [],
   "source": []
  },
  {
   "cell_type": "code",
   "execution_count": null,
   "id": "59018008",
   "metadata": {},
   "outputs": [],
   "source": []
  },
  {
   "cell_type": "code",
   "execution_count": null,
   "id": "d4c5af49",
   "metadata": {},
   "outputs": [],
   "source": []
  },
  {
   "cell_type": "code",
   "execution_count": null,
   "id": "93be5bfd",
   "metadata": {},
   "outputs": [],
   "source": []
  },
  {
   "cell_type": "code",
   "execution_count": null,
   "id": "b95c8cf2",
   "metadata": {},
   "outputs": [],
   "source": []
  },
  {
   "cell_type": "code",
   "execution_count": 322,
   "id": "2d3dba7c",
   "metadata": {},
   "outputs": [],
   "source": [
    "import wbgapi as wb\n",
    "import pandas as pd\n",
    "import warnings\n",
    "import itertools\n",
    "import numpy as np\n",
    "import matplotlib.pyplot as plt\n",
    "import seaborn as sns\n",
    "warnings.filterwarnings(\"ignore\")\n",
    "plt.style.use('fivethirtyeight')\n",
    "import matplotlib\n",
    "from datetime import datetime\n",
    "from dataclasses import dataclass"
   ]
  },
  {
   "cell_type": "code",
   "execution_count": 323,
   "id": "847f494b",
   "metadata": {},
   "outputs": [],
   "source": [
    "matplotlib.rcParams['axes.labelsize'] = 14\n",
    "matplotlib.rcParams['xtick.labelsize'] = 12\n",
    "matplotlib.rcParams['ytick.labelsize'] = 12\n",
    "matplotlib.rcParams['text.color'] = 'k'"
   ]
  },
  {
   "cell_type": "code",
   "execution_count": 324,
   "id": "3764552c",
   "metadata": {},
   "outputs": [],
   "source": [
    "wme_df = pd.read_csv('world_methane_emission_first_note.csv', index_col = False)"
   ]
  },
  {
   "cell_type": "code",
   "execution_count": 325,
   "id": "e1bb3e1a",
   "metadata": {},
   "outputs": [],
   "source": [
    "wme_df = wme_df[wme_df['year'] >= 1990]"
   ]
  },
  {
   "cell_type": "code",
   "execution_count": 326,
   "id": "80366a41",
   "metadata": {},
   "outputs": [],
   "source": [
    "wme_df = wme_df[wme_df['economy'] == 'CHN'] "
   ]
  },
  {
   "cell_type": "code",
   "execution_count": 327,
   "id": "46bb5ece",
   "metadata": {},
   "outputs": [],
   "source": [
    "wme_df[\"future_MethaneValue\"] = wme_df[\"GlobalMethane(ktco2)\"].shift(-1)"
   ]
  },
  {
   "cell_type": "code",
   "execution_count": 328,
   "id": "addb754f",
   "metadata": {},
   "outputs": [],
   "source": [
    "# wme_df = wme_df[[\"year\", \"LandArea(count)\", \"AirTransport\", \"GlobalMethane(ktco2)\"]]"
   ]
  },
  {
   "cell_type": "code",
   "execution_count": 329,
   "id": "ee4f014d",
   "metadata": {},
   "outputs": [],
   "source": [
    "wme_df = wme_df.set_index('year')"
   ]
  },
  {
   "cell_type": "code",
   "execution_count": 330,
   "id": "5f9f8e32",
   "metadata": {},
   "outputs": [
    {
     "data": {
      "text/plain": [
       "(32, 10)"
      ]
     },
     "execution_count": 330,
     "metadata": {},
     "output_type": "execute_result"
    }
   ],
   "source": [
    "wme_df.shape"
   ]
  },
  {
   "cell_type": "code",
   "execution_count": 313,
   "id": "91658b3e",
   "metadata": {},
   "outputs": [],
   "source": [
    "wme_df = wme_df.dropna()"
   ]
  },
  {
   "cell_type": "code",
   "execution_count": 314,
   "id": "bea4f39b",
   "metadata": {},
   "outputs": [],
   "source": [
    "columns = list(wme_df.columns)"
   ]
  },
  {
   "cell_type": "code",
   "execution_count": 315,
   "id": "41cf3131",
   "metadata": {},
   "outputs": [
    {
     "data": {
      "text/plain": [
       "['Unnamed: 0',\n",
       " 'economy',\n",
       " 'GlobalMethane(ktco2)',\n",
       " 'LandArea(count)',\n",
       " 'CO2Emission(kt)',\n",
       " 'AgricultureMethane(ktco2)',\n",
       " 'EnergieMethane(ktco2)',\n",
       " 'AirTransport',\n",
       " 'note_year',\n",
       " 'future_MethaneValue']"
      ]
     },
     "execution_count": 315,
     "metadata": {},
     "output_type": "execute_result"
    }
   ],
   "source": [
    "columns"
   ]
  },
  {
   "cell_type": "code",
   "execution_count": 316,
   "id": "88e536b2",
   "metadata": {},
   "outputs": [],
   "source": [
    "predictors = columns[2:-1]"
   ]
  },
  {
   "cell_type": "code",
   "execution_count": 317,
   "id": "28049100",
   "metadata": {},
   "outputs": [
    {
     "data": {
      "text/plain": [
       "['GlobalMethane(ktco2)',\n",
       " 'LandArea(count)',\n",
       " 'CO2Emission(kt)',\n",
       " 'AgricultureMethane(ktco2)',\n",
       " 'EnergieMethane(ktco2)',\n",
       " 'AirTransport',\n",
       " 'note_year']"
      ]
     },
     "execution_count": 317,
     "metadata": {},
     "output_type": "execute_result"
    }
   ],
   "source": [
    "predictors"
   ]
  },
  {
   "cell_type": "code",
   "execution_count": 318,
   "id": "61c01b16",
   "metadata": {},
   "outputs": [
    {
     "data": {
      "text/plain": [
       "RandomForestRegressor(min_samples_split=50, random_state=1)"
      ]
     },
     "execution_count": 318,
     "metadata": {},
     "output_type": "execute_result"
    }
   ],
   "source": [
    "from sklearn.linear_model import LinearRegression\n",
    "from sklearn.ensemble import RandomForestRegressor\n",
    "\n",
    "from sklearn.metrics import mean_squared_error, r2_score\n",
    "model = RandomForestRegressor(n_estimators=100, min_samples_split=50, random_state=1)\n",
    "lr = LinearRegression()\n",
    "\n",
    "train = wme_df.iloc[:-10]\n",
    "test = wme_df.iloc[-10:]\n",
    "model.fit(train[predictors], train[\"future_MethaneValue\"])"
   ]
  },
  {
   "cell_type": "code",
   "execution_count": 319,
   "id": "0897a4de",
   "metadata": {},
   "outputs": [
    {
     "data": {
      "text/plain": [
       "year\n",
       "2009    854960.733321\n",
       "2010    854960.733321\n",
       "2011    854960.733321\n",
       "2012    854960.733321\n",
       "2013    854960.733321\n",
       "2014    854960.733321\n",
       "2015    854960.733321\n",
       "2016    854960.733321\n",
       "2017    854960.733321\n",
       "2018    854960.733321\n",
       "dtype: float64"
      ]
     },
     "execution_count": 319,
     "metadata": {},
     "output_type": "execute_result"
    }
   ],
   "source": [
    "preds = model.predict(test[predictors])\n",
    "preds = pd.Series(preds, index=test.index)\n",
    "preds"
   ]
  },
  {
   "cell_type": "code",
   "execution_count": 320,
   "id": "1812fc6e",
   "metadata": {},
   "outputs": [],
   "source": [
    "def predict(train, test, predictors, model):\n",
    "    model.fit(train[predictors], train[\"target\"])\n",
    "    preds = model.predict(test[predictors])\n",
    "    preds = pd.Series(preds, index=test.index, name=\"predictions\")\n",
    "    combined = pd.concat([test[\"target\"], preds], axis=1)\n",
    "    return combined"
   ]
  },
  {
   "cell_type": "code",
   "execution_count": 321,
   "id": "08819f7c",
   "metadata": {},
   "outputs": [],
   "source": [
    "def backtest(data, model, predictors, start=1095, step=150):\n",
    "    all_predictions = []\n",
    "\n",
    "    for i in range(start, data.shape[0], step):\n",
    "        train = data.iloc[0:i].copy()\n",
    "        test = data.iloc[i:(i+step)].copy()\n",
    "        predictions = predict(train, test, predictors, model)\n",
    "        all_predictions.append(predictions)\n",
    "    \n",
    "    return pd.concat(all_predictions)"
   ]
  },
  {
   "cell_type": "code",
   "execution_count": 235,
   "id": "a6d1d65a",
   "metadata": {},
   "outputs": [],
   "source": [
    "from sklearn.ensemble import GradientBoostingRegressor"
   ]
  },
  {
   "cell_type": "code",
   "execution_count": 331,
   "id": "1e17c936",
   "metadata": {},
   "outputs": [],
   "source": [
    "est = GradientBoostingRegressor(\n",
    "    n_estimators=100, learning_rate=0.1, max_depth=1, random_state=0,\n",
    "    loss='squared_error').fit(train[predictors], train[\"future_MethaneValue\"])"
   ]
  },
  {
   "cell_type": "code",
   "execution_count": null,
   "id": "8a8b80bd",
   "metadata": {},
   "outputs": [],
   "source": []
  }
 ],
 "metadata": {
  "kernelspec": {
   "display_name": "Python 3 (ipykernel)",
   "language": "python",
   "name": "python3"
  },
  "language_info": {
   "codemirror_mode": {
    "name": "ipython",
    "version": 3
   },
   "file_extension": ".py",
   "mimetype": "text/x-python",
   "name": "python",
   "nbconvert_exporter": "python",
   "pygments_lexer": "ipython3",
   "version": "3.9.12"
  }
 },
 "nbformat": 4,
 "nbformat_minor": 5
}
