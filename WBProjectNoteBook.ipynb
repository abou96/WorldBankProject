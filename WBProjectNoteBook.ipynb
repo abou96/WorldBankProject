{
 "cells": [
  {
   "cell_type": "code",
   "execution_count": 1,
   "id": "2a076532",
   "metadata": {},
   "outputs": [
    {
     "name": "stdout",
     "output_type": "stream",
     "text": [
      "Requirement already satisfied: wbgapi in /Users/mac/.pyenv/versions/3.10.3/lib/python3.10/site-packages (1.0.12)\n",
      "Requirement already satisfied: requests in /Users/mac/.pyenv/versions/3.10.3/lib/python3.10/site-packages (from wbgapi) (2.28.1)\n",
      "Requirement already satisfied: tabulate in /Users/mac/.pyenv/versions/3.10.3/lib/python3.10/site-packages (from wbgapi) (0.9.0)\n",
      "Requirement already satisfied: PyYAML in /Users/mac/.pyenv/versions/3.10.3/lib/python3.10/site-packages (from wbgapi) (6.0)\n",
      "Requirement already satisfied: urllib3<1.27,>=1.21.1 in /Users/mac/.pyenv/versions/3.10.3/lib/python3.10/site-packages (from requests->wbgapi) (1.26.13)\n",
      "Requirement already satisfied: charset-normalizer<3,>=2 in /Users/mac/.pyenv/versions/3.10.3/lib/python3.10/site-packages (from requests->wbgapi) (2.1.1)\n",
      "Requirement already satisfied: idna<4,>=2.5 in /Users/mac/.pyenv/versions/3.10.3/lib/python3.10/site-packages (from requests->wbgapi) (3.4)\n",
      "Requirement already satisfied: certifi>=2017.4.17 in /Users/mac/.pyenv/versions/3.10.3/lib/python3.10/site-packages (from requests->wbgapi) (2022.12.7)\n",
      "\u001b[33mWARNING: You are using pip version 22.0.4; however, version 22.3.1 is available.\n",
      "You should consider upgrading via the '/Users/mac/.pyenv/versions/3.10.3/bin/python3.10 -m pip install --upgrade pip' command.\u001b[0m\u001b[33m\n",
      "\u001b[0m"
     ]
    }
   ],
   "source": [
    "!pip install wbgapi"
   ]
  },
  {
   "cell_type": "code",
   "execution_count": 4,
   "id": "7dd2eccb",
   "metadata": {},
   "outputs": [],
   "source": [
    "import wbgapi as wb\n",
    "import pandas as pd\n",
    "import warnings\n",
    "import itertools\n",
    "import numpy as np\n",
    "import matplotlib.pyplot as plt\n",
    "import seaborn as sns\n",
    "warnings.filterwarnings(\"ignore\")\n",
    "plt.style.use('fivethirtyeight')\n",
    "import matplotlib\n",
    "from datetime import datetime\n",
    "from dataclasses import dataclass"
   ]
  },
  {
   "cell_type": "code",
   "execution_count": 5,
   "id": "0e9dc1cb",
   "metadata": {},
   "outputs": [],
   "source": [
    "matplotlib.rcParams['axes.labelsize'] = 14\n",
    "matplotlib.rcParams['xtick.labelsize'] = 12\n",
    "matplotlib.rcParams['ytick.labelsize'] = 12\n",
    "matplotlib.rcParams['text.color'] = 'k'"
   ]
  },
  {
   "cell_type": "markdown",
   "id": "ca9e2f67",
   "metadata": {},
   "source": [
    "### Query the environmental score, methane emission (kt of CO2 equivalent)\n",
    "- #### Methane emissions from energy processes are emissions from the production, handling, transmission, and combustion of fossil fuels and biofuels.\n",
    "- #### At standard temperature and pressure, one metric ton of carbon dioxide (CO₂) would fill a sphere 32 feet (about 9.8 meters) in diameter. The average car in the U.S. will produce this over a three-month period."
   ]
  },
  {
   "cell_type": "code",
   "execution_count": 6,
   "id": "6fa93415",
   "metadata": {},
   "outputs": [
    {
     "data": {
      "text/html": [
       "<div class=\"wbgapi\"><table>\n",
       "<thead>\n",
       "<tr><th>id                  </th><th>value                                                                      </th></tr>\n",
       "</thead>\n",
       "<tbody>\n",
       "<tr><td>EN.ATM.METH.AG.KT.CE</td><td>Agricultural methane emissions (thousand metric tons of CO2 equivalent)    </td></tr>\n",
       "<tr><td>EN.ATM.METH.AG.ZS   </td><td>Agricultural methane emissions (% of total)                                </td></tr>\n",
       "<tr><td>EN.ATM.METH.EG.KT.CE</td><td>Methane emissions in energy sector (thousand metric tons of CO2 equivalent)</td></tr>\n",
       "<tr><td>EN.ATM.METH.EG.ZS   </td><td>Energy related methane emissions (% of total)                              </td></tr>\n",
       "<tr><td>EN.ATM.METH.KT.CE   </td><td>Methane emissions (kt of CO2 equivalent)                                   </td></tr>\n",
       "<tr><td>EN.ATM.METH.ZG      </td><td>Methane emissions (% change from 1990)                                     </td></tr>\n",
       "<tr><td>                    </td><td>6 elements                                                                 </td></tr>\n",
       "</tbody>\n",
       "</table></div>"
      ],
      "text/plain": [
       "id                    value\n",
       "--------------------  ---------------------------------------------------------------------------\n",
       "EN.ATM.METH.AG.KT.CE  Agricultural methane emissions (thousand metric tons of CO2 equivalent)\n",
       "EN.ATM.METH.AG.ZS     Agricultural methane emissions (% of total)\n",
       "EN.ATM.METH.EG.KT.CE  Methane emissions in energy sector (thousand metric tons of CO2 equivalent)\n",
       "EN.ATM.METH.EG.ZS     Energy related methane emissions (% of total)\n",
       "EN.ATM.METH.KT.CE     Methane emissions (kt of CO2 equivalent)\n",
       "EN.ATM.METH.ZG        Methane emissions (% change from 1990)\n",
       "                      6 elements"
      ]
     },
     "execution_count": 6,
     "metadata": {},
     "output_type": "execute_result"
    }
   ],
   "source": [
    "wb.series.info(q='methane')"
   ]
  },
  {
   "cell_type": "code",
   "execution_count": 7,
   "id": "24abe7c6",
   "metadata": {},
   "outputs": [],
   "source": [
    "QUERY_ID = ['EN.ATM.METH.EG.KT.CE']\n",
    "\n",
    "predictors_id = ['EN.ATM.METH.EG.ZS', 'EN.ATM.METH.EG.ZS',\n",
    "                 'EN.ATM.METH.ZG', 'EN.ATM.METH.AG.ZS', 'EN.ATM.METH.AG.KT.CE' ]\n",
    "\n",
    "predictors_id_2 = ['EN.ATM.CO2E.KT', 'EG.USE.PCAP.KG.OE',\n",
    "                 'NV.IND.TOTL.ZS' ]\n",
    "\n",
    "CURRENT_YEAR_AVAILABLE = 2021"
   ]
  },
  {
   "cell_type": "markdown",
   "id": "0ad94fd2",
   "metadata": {},
   "source": [
    "#### GET OUR DATA FROM WORLD BANK API\n",
    "\n",
    "We retrieve the data from the API using CountryAlpha2Code and the period time\n",
    "- CountryAlpha2Code : later.....\n",
    "- period time : later...."
   ]
  },
  {
   "cell_type": "code",
   "execution_count": 19,
   "id": "6be2432a",
   "metadata": {},
   "outputs": [],
   "source": [
    "def HandlingPeriodFormatInput(period_time) :\n",
    "    \n",
    "    if not isinstance(period_time, list):      \n",
    "        raise Exception (\"period time should be in a format list like this : [2021]\")\n",
    "\n",
    "    if len(period_time) > 3 :\n",
    "        raise Exception (\"The format given is not correct try this format [initial date, final date, step\")\n",
    "        \n",
    "    if len(period_time) == 2 :\n",
    "        period_time.insert(2, 1)\n",
    "        warnings.warn(\"the format should be [initial date, final date, step\")\n",
    "\n",
    "    if max(period_time) > CURRENT_YEAR_AVAILABLE + 1 or min(period_time) > CURRENT_YEAR_AVAILABLE:\n",
    "\n",
    "        new_period_time = range(min(2021, period_time[0]), min(2022, period_time[1]), period_time[2])\n",
    "    else :\n",
    "         new_period_time = range(period_time[0], period_time[1], period_time[2])\n",
    "\n",
    "    return new_period_time\n"
   ]
  },
  {
   "cell_type": "code",
   "execution_count": 9,
   "id": "23a741b3",
   "metadata": {},
   "outputs": [
    {
     "data": {
      "text/plain": [
       "(range(2010, 2022), 2010, 2026)"
      ]
     },
     "execution_count": 9,
     "metadata": {},
     "output_type": "execute_result"
    }
   ],
   "source": [
    "HandlingPeriodFormatInput([2010, 2026, 1])"
   ]
  },
  {
   "cell_type": "code",
   "execution_count": 22,
   "id": "f16fd84b",
   "metadata": {},
   "outputs": [],
   "source": [
    "@dataclass\n",
    "class Country : \n",
    "    name : str\n",
    "    CountryAlpha2Code : str\n",
    "    period_time : list\n",
    "    query_id : list\n",
    "\n",
    "    def getDataMethEmissionByCountryAndYears(self) -> pd.DataFrame :\n",
    "        period_time_range = HandlingPeriodFormatInput(self.period_time)\n",
    "        df = wb.data.DataFrame(self.query_id, self.CountryAlpha2Code, time = period_time_range, columns='series')   \n",
    "        return df.reset_index()\n",
    "        "
   ]
  },
  {
   "cell_type": "code",
   "execution_count": 38,
   "id": "2f349916",
   "metadata": {},
   "outputs": [
    {
     "data": {
      "text/plain": [
       "[1960, 2026, 1]"
      ]
     },
     "execution_count": 38,
     "metadata": {},
     "output_type": "execute_result"
    }
   ],
   "source": [
    "France = Country('France', 'FRA', [1960, 2026, 1], QUERY_ID)\n",
    "France.period_time"
   ]
  },
  {
   "cell_type": "code",
   "execution_count": 39,
   "id": "59142662",
   "metadata": {},
   "outputs": [
    {
     "data": {
      "text/html": [
       "<div>\n",
       "<style scoped>\n",
       "    .dataframe tbody tr th:only-of-type {\n",
       "        vertical-align: middle;\n",
       "    }\n",
       "\n",
       "    .dataframe tbody tr th {\n",
       "        vertical-align: top;\n",
       "    }\n",
       "\n",
       "    .dataframe thead th {\n",
       "        text-align: right;\n",
       "    }\n",
       "</style>\n",
       "<table border=\"1\" class=\"dataframe\">\n",
       "  <thead>\n",
       "    <tr style=\"text-align: right;\">\n",
       "      <th></th>\n",
       "      <th>time</th>\n",
       "      <th>EN.ATM.METH.EG.KT.CE</th>\n",
       "    </tr>\n",
       "  </thead>\n",
       "  <tbody>\n",
       "    <tr>\n",
       "      <th>0</th>\n",
       "      <td>YR1960</td>\n",
       "      <td>NaN</td>\n",
       "    </tr>\n",
       "    <tr>\n",
       "      <th>1</th>\n",
       "      <td>YR1961</td>\n",
       "      <td>NaN</td>\n",
       "    </tr>\n",
       "    <tr>\n",
       "      <th>2</th>\n",
       "      <td>YR1962</td>\n",
       "      <td>NaN</td>\n",
       "    </tr>\n",
       "    <tr>\n",
       "      <th>3</th>\n",
       "      <td>YR1963</td>\n",
       "      <td>NaN</td>\n",
       "    </tr>\n",
       "    <tr>\n",
       "      <th>4</th>\n",
       "      <td>YR1964</td>\n",
       "      <td>NaN</td>\n",
       "    </tr>\n",
       "    <tr>\n",
       "      <th>...</th>\n",
       "      <td>...</td>\n",
       "      <td>...</td>\n",
       "    </tr>\n",
       "    <tr>\n",
       "      <th>57</th>\n",
       "      <td>YR2017</td>\n",
       "      <td>5130.0</td>\n",
       "    </tr>\n",
       "    <tr>\n",
       "      <th>58</th>\n",
       "      <td>YR2018</td>\n",
       "      <td>4990.0</td>\n",
       "    </tr>\n",
       "    <tr>\n",
       "      <th>59</th>\n",
       "      <td>YR2019</td>\n",
       "      <td>5060.0</td>\n",
       "    </tr>\n",
       "    <tr>\n",
       "      <th>60</th>\n",
       "      <td>YR2020</td>\n",
       "      <td>NaN</td>\n",
       "    </tr>\n",
       "    <tr>\n",
       "      <th>61</th>\n",
       "      <td>YR2021</td>\n",
       "      <td>NaN</td>\n",
       "    </tr>\n",
       "  </tbody>\n",
       "</table>\n",
       "<p>62 rows × 2 columns</p>\n",
       "</div>"
      ],
      "text/plain": [
       "      time  EN.ATM.METH.EG.KT.CE\n",
       "0   YR1960                   NaN\n",
       "1   YR1961                   NaN\n",
       "2   YR1962                   NaN\n",
       "3   YR1963                   NaN\n",
       "4   YR1964                   NaN\n",
       "..     ...                   ...\n",
       "57  YR2017                5130.0\n",
       "58  YR2018                4990.0\n",
       "59  YR2019                5060.0\n",
       "60  YR2020                   NaN\n",
       "61  YR2021                   NaN\n",
       "\n",
       "[62 rows x 2 columns]"
      ]
     },
     "execution_count": 39,
     "metadata": {},
     "output_type": "execute_result"
    }
   ],
   "source": [
    "df_France = France.getDataMethEmissionByCountryAndYears()\n",
    "France.period_time\n",
    "df_France"
   ]
  },
  {
   "cell_type": "markdown",
   "id": "3ee85781",
   "metadata": {},
   "source": [
    "#### DATA PREPROCESSING"
   ]
  },
  {
   "cell_type": "code",
   "execution_count": 141,
   "id": "49a317dc",
   "metadata": {},
   "outputs": [],
   "source": [
    "@dataclass\n",
    "class DataMethCountryPreprocessing :\n",
    "    \n",
    "    country : Country\n",
    "    df: pd.DataFrame\n",
    "\n",
    "\n",
    "    def CleaningAndRename(self):\n",
    "        self.df['date'] = self.df['time'].str[2:]\n",
    "        self.df['date'] = pd.to_datetime(self.df['date'])\n",
    "        self.df = self.df.rename(columns = {'EN.ATM.METH.EG.KT.CE' : 'ktofCO2'})\n",
    "        del self.df['time']\n",
    "        self.df = self.df.set_index('date')\n",
    "\n",
    "    def MissingValue(self) :\n",
    "        return sns.heatmap(self.df.isnull(),yticklabels=False,cbar=True,cmap='viridis')\n",
    "\n",
    "    def HandlingFormatDateIndex(self) :\n",
    "        BeginYear, LastYearToPredict,_ = self.country.period_time\n",
    "        start = str(BeginYear) + \"-01-01\"\n",
    "        end = str(LastYearToPredict) + \"-01-01\"\n",
    "        dates = pd.date_range(start=start,end=end)\n",
    "        self.df= self.df.reindex(dates, fill_value=0)\n",
    "        self.df = self.df.resample('Y').sum()"
   ]
  },
  {
   "cell_type": "code",
   "execution_count": 142,
   "id": "aba56cbf",
   "metadata": {},
   "outputs": [
    {
     "data": {
      "image/png": "[encoded data removed]",
      "text/plain": [
       "<Figure size 640x480 with 2 Axes>"
      ]
     },
     "metadata": {},
     "output_type": "display_data"
    }
   ],
   "source": [
    "DMCP = DataMethCountryPreprocessing(France, df_France)\n",
    "DMCP.CleaningAndRename()\n",
    "DMCP.MissingValue()\n",
    "DMCP.HandlingFormatDateIndex()"
   ]
  },
  {
   "cell_type": "code",
   "execution_count": 143,
   "id": "b1c50b15",
   "metadata": {},
   "outputs": [
    {
     "data": {
      "text/html": [
       "<div>\n",
       "<style scoped>\n",
       "    .dataframe tbody tr th:only-of-type {\n",
       "        vertical-align: middle;\n",
       "    }\n",
       "\n",
       "    .dataframe tbody tr th {\n",
       "        vertical-align: top;\n",
       "    }\n",
       "\n",
       "    .dataframe thead th {\n",
       "        text-align: right;\n",
       "    }\n",
       "</style>\n",
       "<table border=\"1\" class=\"dataframe\">\n",
       "  <thead>\n",
       "    <tr style=\"text-align: right;\">\n",
       "      <th></th>\n",
       "      <th>ktofCO2</th>\n",
       "    </tr>\n",
       "  </thead>\n",
       "  <tbody>\n",
       "    <tr>\n",
       "      <th>1960-12-31</th>\n",
       "      <td>NaN</td>\n",
       "    </tr>\n",
       "    <tr>\n",
       "      <th>1961-12-31</th>\n",
       "      <td>NaN</td>\n",
       "    </tr>\n",
       "    <tr>\n",
       "      <th>1962-12-31</th>\n",
       "      <td>NaN</td>\n",
       "    </tr>\n",
       "    <tr>\n",
       "      <th>1963-12-31</th>\n",
       "      <td>NaN</td>\n",
       "    </tr>\n",
       "    <tr>\n",
       "      <th>1964-12-31</th>\n",
       "      <td>NaN</td>\n",
       "    </tr>\n",
       "  </tbody>\n",
       "</table>\n",
       "</div>"
      ],
      "text/plain": [
       "            ktofCO2\n",
       "1960-12-31      NaN\n",
       "1961-12-31      NaN\n",
       "1962-12-31      NaN\n",
       "1963-12-31      NaN\n",
       "1964-12-31      NaN"
      ]
     },
     "execution_count": 143,
     "metadata": {},
     "output_type": "execute_result"
    }
   ],
   "source": [
    "df = DMCP.df\n",
    "df.replace(0.0, pd.np.nan, inplace=True)\n",
    "df.head()"
   ]
  },
  {
   "cell_type": "code",
   "execution_count": 144,
   "id": "bb62db53",
   "metadata": {},
   "outputs": [
    {
     "data": {
      "image/png": "[encoded data removed]",
      "text/plain": [
       "<Figure size 1500x600 with 1 Axes>"
      ]
     },
     "metadata": {},
     "output_type": "display_data"
    }
   ],
   "source": [
    "df.plot(figsize=(15, 6))\n",
    "plt.show()"
   ]
  },
  {
   "cell_type": "markdown",
   "id": "f15847d3",
   "metadata": {},
   "source": [
    "### Handling Missing data"
   ]
  },
  {
   "cell_type": "code",
   "execution_count": 145,
   "id": "2a967a3a",
   "metadata": {},
   "outputs": [
    {
     "data": {
      "text/plain": [
       "<AxesSubplot: >"
      ]
     },
     "execution_count": 145,
     "metadata": {},
     "output_type": "execute_result"
    },
    {
     "data": {
      "image/png": "[encoded data removed]",
      "text/plain": [
       "<Figure size 640x480 with 1 Axes>"
      ]
     },
     "metadata": {},
     "output_type": "display_data"
    }
   ],
   "source": [
    "df['ktofCO2'].hist(bins=30,color='darkred',alpha=0.3)"
   ]
  },
  {
   "cell_type": "code",
   "execution_count": 146,
   "id": "1d790e4f",
   "metadata": {},
   "outputs": [
    {
     "data": {
      "text/plain": [
       "<AxesSubplot: xlabel='ktofCO2'>"
      ]
     },
     "execution_count": 146,
     "metadata": {},
     "output_type": "execute_result"
    },
    {
     "data": {
      "image/png": "[encoded data removed]",
      "text/plain": [
       "<Figure size 1200x700 with 1 Axes>"
      ]
     },
     "metadata": {},
     "output_type": "display_data"
    }
   ],
   "source": [
    "plt.figure(figsize=(12, 7))\n",
    "sns.boxplot(x='ktofCO2',data=df,palette='winter')"
   ]
  },
  {
   "cell_type": "markdown",
   "id": "6be61c67",
   "metadata": {},
   "source": [
    "#### 1ere METHOD USING SIMPLE STATISTICAL METHOD such as mean, nedian, mode"
   ]
  },
  {
   "cell_type": "code",
   "execution_count": null,
   "id": "a1eabee3",
   "metadata": {},
   "outputs": [],
   "source": [
    "def imput_simple_mean(value_cols, kind= 'mean'):\n",
    "    \n",
    "    if pd.isnull(value_cols):\n",
    "        if kind == 'mean' :\n",
    "            return df['ktofCO2'].mean()\n",
    "        elif kind == 'median' :\n",
    "            return df['ktofCO2'].median()\n",
    "        elif kind == 'mode' :\n",
    "            return df['ktofCO2'].mode()[0]\n",
    "            \n",
    "    else:\n",
    "        return value_cols"
   ]
  },
  {
   "cell_type": "code",
   "execution_count": null,
   "id": "7cefd808",
   "metadata": {},
   "outputs": [],
   "source": [
    "df['ktofCO2'] = df['ktofCO2'].apply(lambda x: imput_simple_mean(x, 'mode'))"
   ]
  },
  {
   "cell_type": "code",
   "execution_count": 149,
   "id": "ce9fded1",
   "metadata": {},
   "outputs": [
    {
     "data": {
      "text/plain": [
       "1960-12-31    4680.0\n",
       "1961-12-31    4680.0\n",
       "1962-12-31    4680.0\n",
       "1963-12-31    4680.0\n",
       "1964-12-31    4680.0\n",
       "               ...  \n",
       "2022-12-31    4680.0\n",
       "2023-12-31    4680.0\n",
       "2024-12-31    4680.0\n",
       "2025-12-31    4680.0\n",
       "2026-12-31    4680.0\n",
       "Freq: A-DEC, Name: ktofCO2, Length: 67, dtype: float64"
      ]
     },
     "execution_count": 149,
     "metadata": {},
     "output_type": "execute_result"
    }
   ],
   "source": [
    "df['ktofCO2']"
   ]
  },
  {
   "cell_type": "code",
   "execution_count": 137,
   "id": "22676d64",
   "metadata": {},
   "outputs": [
    {
     "data": {
      "text/plain": [
       "4680.0"
      ]
     },
     "execution_count": 137,
     "metadata": {},
     "output_type": "execute_result"
    }
   ],
   "source": [
    "df['ktofCO2'].mode()[0]"
   ]
  },
  {
   "cell_type": "code",
   "execution_count": null,
   "id": "9cd9616f",
   "metadata": {},
   "outputs": [],
   "source": [
    "#### 2eme METHOD : ML"
   ]
  },
  {
   "cell_type": "code",
   "execution_count": 210,
   "id": "74229c1e",
   "metadata": {},
   "outputs": [],
   "source": [
    "#### 2eme METHOD : Custom imputation: KMEANS + STATISTICAL METHOD\n",
    "predictors = predictors_id + QUERY_ID"
   ]
  },
  {
   "cell_type": "code",
   "execution_count": 262,
   "id": "b6528a27",
   "metadata": {},
   "outputs": [],
   "source": [
    "world_methane_emission = wb.data.DataFrame(predictors, columns = 'series').reset_index()"
   ]
  },
  {
   "cell_type": "code",
   "execution_count": 267,
   "id": "83772d96",
   "metadata": {},
   "outputs": [],
   "source": [
    "world_methane_emission.to_csv('\\world_methane_emission.csv')"
   ]
  },
  {
   "cell_type": "code",
   "execution_count": 269,
   "id": "404280a5",
   "metadata": {},
   "outputs": [
    {
     "data": {
      "text/html": [
       "<div>\n",
       "<style scoped>\n",
       "    .dataframe tbody tr th:only-of-type {\n",
       "        vertical-align: middle;\n",
       "    }\n",
       "\n",
       "    .dataframe tbody tr th {\n",
       "        vertical-align: top;\n",
       "    }\n",
       "\n",
       "    .dataframe thead th {\n",
       "        text-align: right;\n",
       "    }\n",
       "</style>\n",
       "<table border=\"1\" class=\"dataframe\">\n",
       "  <thead>\n",
       "    <tr style=\"text-align: right;\">\n",
       "      <th></th>\n",
       "      <th>economy</th>\n",
       "      <th>time</th>\n",
       "      <th>EN.ATM.METH.AG.KT.CE</th>\n",
       "      <th>EN.ATM.METH.AG.ZS</th>\n",
       "      <th>EN.ATM.METH.EG.KT.CE</th>\n",
       "      <th>EN.ATM.METH.EG.ZS</th>\n",
       "      <th>EN.ATM.METH.ZG</th>\n",
       "    </tr>\n",
       "  </thead>\n",
       "  <tbody>\n",
       "    <tr>\n",
       "      <th>0</th>\n",
       "      <td>ABW</td>\n",
       "      <td>YR1960</td>\n",
       "      <td>NaN</td>\n",
       "      <td>NaN</td>\n",
       "      <td>NaN</td>\n",
       "      <td>NaN</td>\n",
       "      <td>NaN</td>\n",
       "    </tr>\n",
       "    <tr>\n",
       "      <th>1</th>\n",
       "      <td>ABW</td>\n",
       "      <td>YR1961</td>\n",
       "      <td>NaN</td>\n",
       "      <td>NaN</td>\n",
       "      <td>NaN</td>\n",
       "      <td>NaN</td>\n",
       "      <td>NaN</td>\n",
       "    </tr>\n",
       "    <tr>\n",
       "      <th>2</th>\n",
       "      <td>ABW</td>\n",
       "      <td>YR1962</td>\n",
       "      <td>NaN</td>\n",
       "      <td>NaN</td>\n",
       "      <td>NaN</td>\n",
       "      <td>NaN</td>\n",
       "      <td>NaN</td>\n",
       "    </tr>\n",
       "    <tr>\n",
       "      <th>3</th>\n",
       "      <td>ABW</td>\n",
       "      <td>YR1963</td>\n",
       "      <td>NaN</td>\n",
       "      <td>NaN</td>\n",
       "      <td>NaN</td>\n",
       "      <td>NaN</td>\n",
       "      <td>NaN</td>\n",
       "    </tr>\n",
       "    <tr>\n",
       "      <th>4</th>\n",
       "      <td>ABW</td>\n",
       "      <td>YR1964</td>\n",
       "      <td>NaN</td>\n",
       "      <td>NaN</td>\n",
       "      <td>NaN</td>\n",
       "      <td>NaN</td>\n",
       "      <td>NaN</td>\n",
       "    </tr>\n",
       "  </tbody>\n",
       "</table>\n",
       "</div>"
      ],
      "text/plain": [
       "  economy    time  EN.ATM.METH.AG.KT.CE  EN.ATM.METH.AG.ZS  \\\n",
       "0     ABW  YR1960                   NaN                NaN   \n",
       "1     ABW  YR1961                   NaN                NaN   \n",
       "2     ABW  YR1962                   NaN                NaN   \n",
       "3     ABW  YR1963                   NaN                NaN   \n",
       "4     ABW  YR1964                   NaN                NaN   \n",
       "\n",
       "   EN.ATM.METH.EG.KT.CE  EN.ATM.METH.EG.ZS  EN.ATM.METH.ZG  \n",
       "0                   NaN                NaN             NaN  \n",
       "1                   NaN                NaN             NaN  \n",
       "2                   NaN                NaN             NaN  \n",
       "3                   NaN                NaN             NaN  \n",
       "4                   NaN                NaN             NaN  "
      ]
     },
     "execution_count": 269,
     "metadata": {},
     "output_type": "execute_result"
    }
   ],
   "source": [
    "world_methane_emission.head()"
   ]
  },
  {
   "cell_type": "code",
   "execution_count": 273,
   "id": "a021e8be",
   "metadata": {},
   "outputs": [],
   "source": [
    "world_methane_emission_df = world_methane_emission.copy()"
   ]
  },
  {
   "cell_type": "markdown",
   "id": "ab5f251e",
   "metadata": {},
   "source": [
    "#### Data cleaning"
   ]
  },
  {
   "cell_type": "code",
   "execution_count": 276,
   "id": "77e2c709",
   "metadata": {},
   "outputs": [
    {
     "data": {
      "text/plain": [
       "['EN.ATM.METH.AG.KT.CE',\n",
       " 'EN.ATM.METH.AG.ZS',\n",
       " 'EN.ATM.METH.EG.KT.CE',\n",
       " 'EN.ATM.METH.EG.ZS',\n",
       " 'EN.ATM.METH.ZG']"
      ]
     },
     "execution_count": 276,
     "metadata": {},
     "output_type": "execute_result"
    }
   ],
   "source": [
    "features = list(world_methane_emission_df.columns)[2:]\n",
    "features"
   ]
  },
  {
   "cell_type": "code",
   "execution_count": 275,
   "id": "25737621",
   "metadata": {},
   "outputs": [
    {
     "data": {
      "text/plain": [
       "16492"
      ]
     },
     "execution_count": 275,
     "metadata": {},
     "output_type": "execute_result"
    }
   ],
   "source": [
    "len(world_methane_emission_df)"
   ]
  },
  {
   "cell_type": "code",
   "execution_count": 277,
   "id": "b61fda3d",
   "metadata": {},
   "outputs": [
    {
     "data": {
      "text/plain": [
       "3571"
      ]
     },
     "execution_count": 277,
     "metadata": {},
     "output_type": "execute_result"
    }
   ],
   "source": [
    "world_methane_emission_df = world_methane_emission_df.dropna(subset=features)\n",
    "len(world_methane_emission_df)"
   ]
  },
  {
   "cell_type": "code",
   "execution_count": 278,
   "id": "2dbe9836",
   "metadata": {},
   "outputs": [
    {
     "data": {
      "text/html": [
       "<div>\n",
       "<style scoped>\n",
       "    .dataframe tbody tr th:only-of-type {\n",
       "        vertical-align: middle;\n",
       "    }\n",
       "\n",
       "    .dataframe tbody tr th {\n",
       "        vertical-align: top;\n",
       "    }\n",
       "\n",
       "    .dataframe thead th {\n",
       "        text-align: right;\n",
       "    }\n",
       "</style>\n",
       "<table border=\"1\" class=\"dataframe\">\n",
       "  <thead>\n",
       "    <tr style=\"text-align: right;\">\n",
       "      <th></th>\n",
       "      <th>EN.ATM.METH.AG.KT.CE</th>\n",
       "      <th>EN.ATM.METH.AG.ZS</th>\n",
       "      <th>EN.ATM.METH.EG.KT.CE</th>\n",
       "      <th>EN.ATM.METH.EG.ZS</th>\n",
       "      <th>EN.ATM.METH.ZG</th>\n",
       "    </tr>\n",
       "  </thead>\n",
       "  <tbody>\n",
       "    <tr>\n",
       "      <th>155</th>\n",
       "      <td>5610.0</td>\n",
       "      <td>61.852260</td>\n",
       "      <td>240.0</td>\n",
       "      <td>25.248071</td>\n",
       "      <td>0.976719</td>\n",
       "    </tr>\n",
       "    <tr>\n",
       "      <th>156</th>\n",
       "      <td>5670.0</td>\n",
       "      <td>63.070078</td>\n",
       "      <td>200.0</td>\n",
       "      <td>22.914349</td>\n",
       "      <td>-3.173352</td>\n",
       "    </tr>\n",
       "    <tr>\n",
       "      <th>157</th>\n",
       "      <td>5720.0</td>\n",
       "      <td>64.341957</td>\n",
       "      <td>160.0</td>\n",
       "      <td>20.697413</td>\n",
       "      <td>-2.001814</td>\n",
       "    </tr>\n",
       "    <tr>\n",
       "      <th>158</th>\n",
       "      <td>5930.0</td>\n",
       "      <td>66.183036</td>\n",
       "      <td>120.0</td>\n",
       "      <td>18.080357</td>\n",
       "      <td>0.515891</td>\n",
       "    </tr>\n",
       "    <tr>\n",
       "      <th>159</th>\n",
       "      <td>6250.0</td>\n",
       "      <td>68.380744</td>\n",
       "      <td>80.0</td>\n",
       "      <td>15.317287</td>\n",
       "      <td>3.385871</td>\n",
       "    </tr>\n",
       "    <tr>\n",
       "      <th>...</th>\n",
       "      <td>...</td>\n",
       "      <td>...</td>\n",
       "      <td>...</td>\n",
       "      <td>...</td>\n",
       "      <td>...</td>\n",
       "    </tr>\n",
       "    <tr>\n",
       "      <th>16474</th>\n",
       "      <td>6410.0</td>\n",
       "      <td>60.989534</td>\n",
       "      <td>2450.0</td>\n",
       "      <td>16.841104</td>\n",
       "      <td>-7.153596</td>\n",
       "    </tr>\n",
       "    <tr>\n",
       "      <th>16475</th>\n",
       "      <td>6370.0</td>\n",
       "      <td>61.368015</td>\n",
       "      <td>2460.0</td>\n",
       "      <td>15.895954</td>\n",
       "      <td>-5.832041</td>\n",
       "    </tr>\n",
       "    <tr>\n",
       "      <th>16476</th>\n",
       "      <td>6050.0</td>\n",
       "      <td>60.139165</td>\n",
       "      <td>2510.0</td>\n",
       "      <td>16.103380</td>\n",
       "      <td>-17.467263</td>\n",
       "    </tr>\n",
       "    <tr>\n",
       "      <th>16477</th>\n",
       "      <td>6280.0</td>\n",
       "      <td>60.970874</td>\n",
       "      <td>2520.0</td>\n",
       "      <td>15.436893</td>\n",
       "      <td>-17.434600</td>\n",
       "    </tr>\n",
       "    <tr>\n",
       "      <th>16478</th>\n",
       "      <td>6410.0</td>\n",
       "      <td>61.457335</td>\n",
       "      <td>2490.0</td>\n",
       "      <td>14.956855</td>\n",
       "      <td>-17.561159</td>\n",
       "    </tr>\n",
       "  </tbody>\n",
       "</table>\n",
       "<p>3571 rows × 5 columns</p>\n",
       "</div>"
      ],
      "text/plain": [
       "       EN.ATM.METH.AG.KT.CE  EN.ATM.METH.AG.ZS  EN.ATM.METH.EG.KT.CE  \\\n",
       "155                  5610.0          61.852260                 240.0   \n",
       "156                  5670.0          63.070078                 200.0   \n",
       "157                  5720.0          64.341957                 160.0   \n",
       "158                  5930.0          66.183036                 120.0   \n",
       "159                  6250.0          68.380744                  80.0   \n",
       "...                     ...                ...                   ...   \n",
       "16474                6410.0          60.989534                2450.0   \n",
       "16475                6370.0          61.368015                2460.0   \n",
       "16476                6050.0          60.139165                2510.0   \n",
       "16477                6280.0          60.970874                2520.0   \n",
       "16478                6410.0          61.457335                2490.0   \n",
       "\n",
       "       EN.ATM.METH.EG.ZS  EN.ATM.METH.ZG  \n",
       "155            25.248071        0.976719  \n",
       "156            22.914349       -3.173352  \n",
       "157            20.697413       -2.001814  \n",
       "158            18.080357        0.515891  \n",
       "159            15.317287        3.385871  \n",
       "...                  ...             ...  \n",
       "16474          16.841104       -7.153596  \n",
       "16475          15.895954       -5.832041  \n",
       "16476          16.103380      -17.467263  \n",
       "16477          15.436893      -17.434600  \n",
       "16478          14.956855      -17.561159  \n",
       "\n",
       "[3571 rows x 5 columns]"
      ]
     },
     "execution_count": 278,
     "metadata": {},
     "output_type": "execute_result"
    }
   ],
   "source": [
    "data = world_methane_emission_df[features].copy()\n",
    "data"
   ]
  },
  {
   "cell_type": "markdown",
   "id": "070c996a",
   "metadata": {},
   "source": [
    "#### Normalisation de la data"
   ]
  },
  {
   "cell_type": "code",
   "execution_count": 280,
   "id": "c93e36e3",
   "metadata": {},
   "outputs": [],
   "source": [
    "data = ((data - data.min()) / (data.max() - data.min())) * 10 + 1"
   ]
  },
  {
   "cell_type": "code",
   "execution_count": 281,
   "id": "7493558e",
   "metadata": {},
   "outputs": [
    {
     "data": {
      "text/html": [
       "<div>\n",
       "<style scoped>\n",
       "    .dataframe tbody tr th:only-of-type {\n",
       "        vertical-align: middle;\n",
       "    }\n",
       "\n",
       "    .dataframe tbody tr th {\n",
       "        vertical-align: top;\n",
       "    }\n",
       "\n",
       "    .dataframe thead th {\n",
       "        text-align: right;\n",
       "    }\n",
       "</style>\n",
       "<table border=\"1\" class=\"dataframe\">\n",
       "  <thead>\n",
       "    <tr style=\"text-align: right;\">\n",
       "      <th></th>\n",
       "      <th>EN.ATM.METH.AG.KT.CE</th>\n",
       "      <th>EN.ATM.METH.AG.ZS</th>\n",
       "      <th>EN.ATM.METH.EG.KT.CE</th>\n",
       "      <th>EN.ATM.METH.EG.ZS</th>\n",
       "      <th>EN.ATM.METH.ZG</th>\n",
       "    </tr>\n",
       "  </thead>\n",
       "  <tbody>\n",
       "    <tr>\n",
       "      <th>155</th>\n",
       "      <td>1.016750</td>\n",
       "      <td>7.425429</td>\n",
       "      <td>1.000850</td>\n",
       "      <td>3.541671</td>\n",
       "      <td>1.431682</td>\n",
       "    </tr>\n",
       "    <tr>\n",
       "      <th>156</th>\n",
       "      <td>1.016929</td>\n",
       "      <td>7.551940</td>\n",
       "      <td>1.000709</td>\n",
       "      <td>3.306740</td>\n",
       "      <td>1.413940</td>\n",
       "    </tr>\n",
       "    <tr>\n",
       "      <th>157</th>\n",
       "      <td>1.017079</td>\n",
       "      <td>7.684067</td>\n",
       "      <td>1.000567</td>\n",
       "      <td>3.083566</td>\n",
       "      <td>1.418949</td>\n",
       "    </tr>\n",
       "    <tr>\n",
       "      <th>158</th>\n",
       "      <td>1.017706</td>\n",
       "      <td>7.875325</td>\n",
       "      <td>1.000425</td>\n",
       "      <td>2.820112</td>\n",
       "      <td>1.429712</td>\n",
       "    </tr>\n",
       "    <tr>\n",
       "      <th>159</th>\n",
       "      <td>1.018661</td>\n",
       "      <td>8.103631</td>\n",
       "      <td>1.000283</td>\n",
       "      <td>2.541960</td>\n",
       "      <td>1.441981</td>\n",
       "    </tr>\n",
       "    <tr>\n",
       "      <th>...</th>\n",
       "      <td>...</td>\n",
       "      <td>...</td>\n",
       "      <td>...</td>\n",
       "      <td>...</td>\n",
       "      <td>...</td>\n",
       "    </tr>\n",
       "    <tr>\n",
       "      <th>16474</th>\n",
       "      <td>1.019139</td>\n",
       "      <td>7.335806</td>\n",
       "      <td>1.008680</td>\n",
       "      <td>2.695359</td>\n",
       "      <td>1.396924</td>\n",
       "    </tr>\n",
       "    <tr>\n",
       "      <th>16475</th>\n",
       "      <td>1.019019</td>\n",
       "      <td>7.375124</td>\n",
       "      <td>1.008716</td>\n",
       "      <td>2.600213</td>\n",
       "      <td>1.402574</td>\n",
       "    </tr>\n",
       "    <tr>\n",
       "      <th>16476</th>\n",
       "      <td>1.018064</td>\n",
       "      <td>7.247467</td>\n",
       "      <td>1.008893</td>\n",
       "      <td>2.621094</td>\n",
       "      <td>1.352833</td>\n",
       "    </tr>\n",
       "    <tr>\n",
       "      <th>16477</th>\n",
       "      <td>1.018751</td>\n",
       "      <td>7.333867</td>\n",
       "      <td>1.008928</td>\n",
       "      <td>2.554000</td>\n",
       "      <td>1.352972</td>\n",
       "    </tr>\n",
       "    <tr>\n",
       "      <th>16478</th>\n",
       "      <td>1.019139</td>\n",
       "      <td>7.384403</td>\n",
       "      <td>1.008822</td>\n",
       "      <td>2.505676</td>\n",
       "      <td>1.352431</td>\n",
       "    </tr>\n",
       "  </tbody>\n",
       "</table>\n",
       "<p>3571 rows × 5 columns</p>\n",
       "</div>"
      ],
      "text/plain": [
       "       EN.ATM.METH.AG.KT.CE  EN.ATM.METH.AG.ZS  EN.ATM.METH.EG.KT.CE  \\\n",
       "155                1.016750           7.425429              1.000850   \n",
       "156                1.016929           7.551940              1.000709   \n",
       "157                1.017079           7.684067              1.000567   \n",
       "158                1.017706           7.875325              1.000425   \n",
       "159                1.018661           8.103631              1.000283   \n",
       "...                     ...                ...                   ...   \n",
       "16474              1.019139           7.335806              1.008680   \n",
       "16475              1.019019           7.375124              1.008716   \n",
       "16476              1.018064           7.247467              1.008893   \n",
       "16477              1.018751           7.333867              1.008928   \n",
       "16478              1.019139           7.384403              1.008822   \n",
       "\n",
       "       EN.ATM.METH.EG.ZS  EN.ATM.METH.ZG  \n",
       "155             3.541671        1.431682  \n",
       "156             3.306740        1.413940  \n",
       "157             3.083566        1.418949  \n",
       "158             2.820112        1.429712  \n",
       "159             2.541960        1.441981  \n",
       "...                  ...             ...  \n",
       "16474           2.695359        1.396924  \n",
       "16475           2.600213        1.402574  \n",
       "16476           2.621094        1.352833  \n",
       "16477           2.554000        1.352972  \n",
       "16478           2.505676        1.352431  \n",
       "\n",
       "[3571 rows x 5 columns]"
      ]
     },
     "execution_count": 281,
     "metadata": {},
     "output_type": "execute_result"
    }
   ],
   "source": [
    "data"
   ]
  },
  {
   "cell_type": "code",
   "execution_count": 310,
   "id": "d58ac087",
   "metadata": {},
   "outputs": [
    {
     "data": {
      "text/plain": [
       "KMeans(n_clusters=5)"
      ]
     },
     "execution_count": 310,
     "metadata": {},
     "output_type": "execute_result"
    }
   ],
   "source": [
    "from sklearn.cluster import KMeans\n",
    "kmeans = KMeans(5)\n",
    "kmeans.fit(data)"
   ]
  },
  {
   "cell_type": "code",
   "execution_count": 311,
   "id": "89b877cd",
   "metadata": {},
   "outputs": [
    {
     "data": {
      "text/html": [
       "<div>\n",
       "<style scoped>\n",
       "    .dataframe tbody tr th:only-of-type {\n",
       "        vertical-align: middle;\n",
       "    }\n",
       "\n",
       "    .dataframe tbody tr th {\n",
       "        vertical-align: top;\n",
       "    }\n",
       "\n",
       "    .dataframe thead th {\n",
       "        text-align: right;\n",
       "    }\n",
       "</style>\n",
       "<table border=\"1\" class=\"dataframe\">\n",
       "  <thead>\n",
       "    <tr style=\"text-align: right;\">\n",
       "      <th></th>\n",
       "      <th>0</th>\n",
       "      <th>1</th>\n",
       "      <th>2</th>\n",
       "      <th>3</th>\n",
       "      <th>4</th>\n",
       "    </tr>\n",
       "  </thead>\n",
       "  <tbody>\n",
       "    <tr>\n",
       "      <th>EN.ATM.METH.AG.KT.CE</th>\n",
       "      <td>1.154935</td>\n",
       "      <td>1.466130</td>\n",
       "      <td>7.194190</td>\n",
       "      <td>1.021558</td>\n",
       "      <td>1.251164</td>\n",
       "    </tr>\n",
       "    <tr>\n",
       "      <th>EN.ATM.METH.AG.ZS</th>\n",
       "      <td>2.851864</td>\n",
       "      <td>5.970096</td>\n",
       "      <td>5.880477</td>\n",
       "      <td>2.551361</td>\n",
       "      <td>8.753440</td>\n",
       "    </tr>\n",
       "    <tr>\n",
       "      <th>EN.ATM.METH.EG.KT.CE</th>\n",
       "      <td>1.454123</td>\n",
       "      <td>1.323399</td>\n",
       "      <td>6.474636</td>\n",
       "      <td>1.033187</td>\n",
       "      <td>1.055376</td>\n",
       "    </tr>\n",
       "    <tr>\n",
       "      <th>EN.ATM.METH.EG.ZS</th>\n",
       "      <td>7.546569</td>\n",
       "      <td>3.519282</td>\n",
       "      <td>4.473714</td>\n",
       "      <td>2.243221</td>\n",
       "      <td>2.087578</td>\n",
       "    </tr>\n",
       "    <tr>\n",
       "      <th>EN.ATM.METH.ZG</th>\n",
       "      <td>1.638061</td>\n",
       "      <td>1.432398</td>\n",
       "      <td>1.466159</td>\n",
       "      <td>1.554298</td>\n",
       "      <td>1.455969</td>\n",
       "    </tr>\n",
       "  </tbody>\n",
       "</table>\n",
       "</div>"
      ],
      "text/plain": [
       "                             0         1         2         3         4\n",
       "EN.ATM.METH.AG.KT.CE  1.154935  1.466130  7.194190  1.021558  1.251164\n",
       "EN.ATM.METH.AG.ZS     2.851864  5.970096  5.880477  2.551361  8.753440\n",
       "EN.ATM.METH.EG.KT.CE  1.454123  1.323399  6.474636  1.033187  1.055376\n",
       "EN.ATM.METH.EG.ZS     7.546569  3.519282  4.473714  2.243221  2.087578\n",
       "EN.ATM.METH.ZG        1.638061  1.432398  1.466159  1.554298  1.455969"
      ]
     },
     "execution_count": 311,
     "metadata": {},
     "output_type": "execute_result"
    }
   ],
   "source": [
    "pd.DataFrame(kmeans.cluster_centers_, columns=features).T"
   ]
  },
  {
   "cell_type": "code",
   "execution_count": 312,
   "id": "485c2db0",
   "metadata": {},
   "outputs": [],
   "source": [
    "labels = kmeans.labels_\n",
    "centroids = kmeans.cluster_centers_"
   ]
  },
  {
   "cell_type": "code",
   "execution_count": 313,
   "id": "3f644f6a",
   "metadata": {},
   "outputs": [
    {
     "data": {
      "text/plain": [
       "array([[1.15493503, 2.85186364, 1.45412292, 7.54656859, 1.63806134],\n",
       "       [1.46612991, 5.970096  , 1.32339937, 3.51928188, 1.43239783],\n",
       "       [7.1941901 , 5.88047671, 6.47463636, 4.47371427, 1.46615933],\n",
       "       [1.02155849, 2.55136109, 1.03318713, 2.24322076, 1.55429779],\n",
       "       [1.25116351, 8.7534404 , 1.0553765 , 2.08757845, 1.45596852]])"
      ]
     },
     "execution_count": 313,
     "metadata": {},
     "output_type": "execute_result"
    }
   ],
   "source": [
    "centroids"
   ]
  },
  {
   "cell_type": "code",
   "execution_count": 314,
   "id": "bc0b1ae8",
   "metadata": {},
   "outputs": [
    {
     "data": {
      "text/html": [
       "<div>\n",
       "<style scoped>\n",
       "    .dataframe tbody tr th:only-of-type {\n",
       "        vertical-align: middle;\n",
       "    }\n",
       "\n",
       "    .dataframe tbody tr th {\n",
       "        vertical-align: top;\n",
       "    }\n",
       "\n",
       "    .dataframe thead th {\n",
       "        text-align: right;\n",
       "    }\n",
       "</style>\n",
       "<table border=\"1\" class=\"dataframe\">\n",
       "  <thead>\n",
       "    <tr style=\"text-align: right;\">\n",
       "      <th></th>\n",
       "      <th>economy</th>\n",
       "      <th>EN.ATM.METH.AG.KT.CE</th>\n",
       "      <th>EN.ATM.METH.AG.ZS</th>\n",
       "      <th>EN.ATM.METH.EG.KT.CE</th>\n",
       "      <th>EN.ATM.METH.EG.ZS</th>\n",
       "      <th>EN.ATM.METH.ZG</th>\n",
       "    </tr>\n",
       "  </thead>\n",
       "  <tbody>\n",
       "    <tr>\n",
       "      <th>155</th>\n",
       "      <td>AFG</td>\n",
       "      <td>5610.0</td>\n",
       "      <td>61.852260</td>\n",
       "      <td>240.0</td>\n",
       "      <td>25.248071</td>\n",
       "      <td>0.976719</td>\n",
       "    </tr>\n",
       "    <tr>\n",
       "      <th>156</th>\n",
       "      <td>AFG</td>\n",
       "      <td>5670.0</td>\n",
       "      <td>63.070078</td>\n",
       "      <td>200.0</td>\n",
       "      <td>22.914349</td>\n",
       "      <td>-3.173352</td>\n",
       "    </tr>\n",
       "    <tr>\n",
       "      <th>170</th>\n",
       "      <td>AFG</td>\n",
       "      <td>8650.0</td>\n",
       "      <td>58.092680</td>\n",
       "      <td>280.0</td>\n",
       "      <td>26.863667</td>\n",
       "      <td>42.507847</td>\n",
       "    </tr>\n",
       "    <tr>\n",
       "      <th>171</th>\n",
       "      <td>AFG</td>\n",
       "      <td>8800.0</td>\n",
       "      <td>48.618785</td>\n",
       "      <td>500.0</td>\n",
       "      <td>38.674033</td>\n",
       "      <td>44.865082</td>\n",
       "    </tr>\n",
       "    <tr>\n",
       "      <th>172</th>\n",
       "      <td>AFG</td>\n",
       "      <td>9800.0</td>\n",
       "      <td>44.203879</td>\n",
       "      <td>730.0</td>\n",
       "      <td>45.060893</td>\n",
       "      <td>47.155454</td>\n",
       "    </tr>\n",
       "    <tr>\n",
       "      <th>...</th>\n",
       "      <td>...</td>\n",
       "      <td>...</td>\n",
       "      <td>...</td>\n",
       "      <td>...</td>\n",
       "      <td>...</td>\n",
       "      <td>...</td>\n",
       "    </tr>\n",
       "    <tr>\n",
       "      <th>16465</th>\n",
       "      <td>ZWE</td>\n",
       "      <td>5500.0</td>\n",
       "      <td>59.912854</td>\n",
       "      <td>2080.0</td>\n",
       "      <td>26.034858</td>\n",
       "      <td>-19.854916</td>\n",
       "    </tr>\n",
       "    <tr>\n",
       "      <th>16467</th>\n",
       "      <td>ZWE</td>\n",
       "      <td>6560.0</td>\n",
       "      <td>62.239089</td>\n",
       "      <td>2250.0</td>\n",
       "      <td>22.201139</td>\n",
       "      <td>-14.038182</td>\n",
       "    </tr>\n",
       "    <tr>\n",
       "      <th>16470</th>\n",
       "      <td>ZWE</td>\n",
       "      <td>6930.0</td>\n",
       "      <td>60.949868</td>\n",
       "      <td>2540.0</td>\n",
       "      <td>19.876869</td>\n",
       "      <td>-5.698852</td>\n",
       "    </tr>\n",
       "    <tr>\n",
       "      <th>16472</th>\n",
       "      <td>ZWE</td>\n",
       "      <td>6370.0</td>\n",
       "      <td>59.868421</td>\n",
       "      <td>2480.0</td>\n",
       "      <td>18.984962</td>\n",
       "      <td>-6.358752</td>\n",
       "    </tr>\n",
       "    <tr>\n",
       "      <th>16473</th>\n",
       "      <td>ZWE</td>\n",
       "      <td>6190.0</td>\n",
       "      <td>59.691418</td>\n",
       "      <td>2490.0</td>\n",
       "      <td>18.225651</td>\n",
       "      <td>-10.210509</td>\n",
       "    </tr>\n",
       "  </tbody>\n",
       "</table>\n",
       "<p>1222 rows × 6 columns</p>\n",
       "</div>"
      ],
      "text/plain": [
       "      economy  EN.ATM.METH.AG.KT.CE  EN.ATM.METH.AG.ZS  EN.ATM.METH.EG.KT.CE  \\\n",
       "155       AFG                5610.0          61.852260                 240.0   \n",
       "156       AFG                5670.0          63.070078                 200.0   \n",
       "170       AFG                8650.0          58.092680                 280.0   \n",
       "171       AFG                8800.0          48.618785                 500.0   \n",
       "172       AFG                9800.0          44.203879                 730.0   \n",
       "...       ...                   ...                ...                   ...   \n",
       "16465     ZWE                5500.0          59.912854                2080.0   \n",
       "16467     ZWE                6560.0          62.239089                2250.0   \n",
       "16470     ZWE                6930.0          60.949868                2540.0   \n",
       "16472     ZWE                6370.0          59.868421                2480.0   \n",
       "16473     ZWE                6190.0          59.691418                2490.0   \n",
       "\n",
       "       EN.ATM.METH.EG.ZS  EN.ATM.METH.ZG  \n",
       "155            25.248071        0.976719  \n",
       "156            22.914349       -3.173352  \n",
       "170            26.863667       42.507847  \n",
       "171            38.674033       44.865082  \n",
       "172            45.060893       47.155454  \n",
       "...                  ...             ...  \n",
       "16465          26.034858      -19.854916  \n",
       "16467          22.201139      -14.038182  \n",
       "16470          19.876869       -5.698852  \n",
       "16472          18.984962       -6.358752  \n",
       "16473          18.225651      -10.210509  \n",
       "\n",
       "[1222 rows x 6 columns]"
      ]
     },
     "execution_count": 314,
     "metadata": {},
     "output_type": "execute_result"
    }
   ],
   "source": [
    "world_methane_emission_df[kmeans.labels_ == 1][[\"economy\"] + features]"
   ]
  },
  {
   "cell_type": "code",
   "execution_count": 315,
   "id": "688303d6",
   "metadata": {},
   "outputs": [],
   "source": [
    "from sklearn.decomposition import PCA\n",
    "import matplotlib.pyplot as plt\n",
    "from IPython.display import clear_output\n",
    "\n",
    "def plot_clusters(data, labels, centroids):\n",
    "    pca = PCA(n_components=2)\n",
    "    data_2d = pca.fit_transform(data)\n",
    "    centroids_2d = pca.transform(centroids.T)\n",
    "    clear_output(wait=True)\n",
    "    plt.scatter(x=data_2d[:,0], y=data_2d[:,1], c=labels)\n",
    "    plt.scatter(x=centroids_2d[:,0], y=centroids_2d[:,1])\n",
    "    plt.show()"
   ]
  },
  {
   "cell_type": "code",
   "execution_count": 316,
   "id": "85a3f252",
   "metadata": {},
   "outputs": [
    {
     "data": {
      "image/png": "[encoded data removed]",
      "text/plain": [
       "<Figure size 640x480 with 1 Axes>"
      ]
     },
     "metadata": {},
     "output_type": "display_data"
    }
   ],
   "source": [
    "plot_clusters(data, labels, centroids.T)"
   ]
  },
  {
   "cell_type": "code",
   "execution_count": 268,
   "id": "6f5003df",
   "metadata": {},
   "outputs": [
    {
     "data": {
      "text/plain": [
       "266"
      ]
     },
     "execution_count": 268,
     "metadata": {},
     "output_type": "execute_result"
    }
   ],
   "source": [
    "len(world_methane_emission['economy'].unique())"
   ]
  },
  {
   "cell_type": "code",
   "execution_count": 264,
   "id": "90a224f8",
   "metadata": {},
   "outputs": [],
   "source": [
    "world_methane_emission_afr = wb.data.DataFrame(predictors, wb.region.members('AFR'), columns = 'series').reset_index()"
   ]
  }
 ],
 "metadata": {
  "kernelspec": {
   "display_name": "Python 3 (ipykernel)",
   "language": "python",
   "name": "python3"
  },
  "language_info": {
   "codemirror_mode": {
    "name": "ipython",
    "version": 3
   },
   "file_extension": ".py",
   "mimetype": "text/x-python",
   "name": "python",
   "nbconvert_exporter": "python",
   "pygments_lexer": "ipython3",
   "version": "3.9.12"
  }
 },
 "nbformat": 4,
 "nbformat_minor": 5
}
